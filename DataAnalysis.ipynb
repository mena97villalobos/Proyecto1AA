{
  "nbformat": 4,
  "nbformat_minor": 0,
  "metadata": {
    "colab": {
      "name": "DataAnalysis.ipynb",
      "provenance": []
    },
    "kernelspec": {
      "name": "python3",
      "display_name": "Python 3"
    },
    "language_info": {
      "name": "python"
    }
  },
  "cells": [
    {
      "cell_type": "code",
      "metadata": {
        "id": "t1RYdoBwuNz9"
      },
      "source": [
        "import numpy as np\n",
        "from sklearn.datasets import load_iris"
      ],
      "execution_count": 1,
      "outputs": []
    },
    {
      "cell_type": "code",
      "metadata": {
        "colab": {
          "base_uri": "https://localhost:8080/"
        },
        "id": "Jeo42XrEuVOb",
        "outputId": "8b9a5c0e-3ce9-4ba5-9862-180f96c77bae"
      },
      "source": [
        "iris = load_iris()\n",
        "\n",
        "X = iris.data\n",
        "y = iris.target\n",
        "\n",
        "data = np.append(X, y.reshape(-1, 1), axis=1)\n",
        "\n",
        "setosa = np.array([x for x in data if x[-1] == 0])\n",
        "versicolour = np.array([x for x in data if x[-1] == 1])\n",
        "virginica = np.array([x for x in data if x[-1] == 2])\n",
        "\n",
        "ave_std_per_column, ave_std_per_class  = {}, {}\n",
        "ave_std_per_column[\"sepal length\"] = np.array([np.average(setosa[:,0]), np.std(setosa[:,0])])\n",
        "ave_std_per_column[\"sepal width\"] = np.array([np.average(setosa[:,1]), np.std(setosa[:,1])])\n",
        "ave_std_per_column[\"petal length\"] = np.array([np.average(setosa[:,2]), np.std(setosa[:,2])])\n",
        "ave_std_per_column[\"petal width\"] = np.array([np.average(setosa[:,3]), np.std(setosa[:,3])])\n",
        "\n",
        "ave_std_per_class[\"setosa\"] = ave_std_per_column\n",
        "\n",
        "ave_std_per_column = {}\n",
        "ave_std_per_column[\"sepal length\"] = np.array([np.average(versicolour[:,0]), np.std(versicolour[:,0])])\n",
        "ave_std_per_column[\"sepal width\"] = np.array([np.average(versicolour[:,1]), np.std(versicolour[:,1])])\n",
        "ave_std_per_column[\"petal length\"] = np.array([np.average(versicolour[:,2]), np.std(versicolour[:,2])])\n",
        "ave_std_per_column[\"petal width\"] = np.array([np.average(versicolour[:,3]), np.std(versicolour[:,3])])\n",
        "\n",
        "ave_std_per_class[\"versicolour\"] = ave_std_per_column\n",
        "\n",
        "ave_std_per_column = {}\n",
        "ave_std_per_column[\"sepal length\"] = np.array([np.average(virginica[:,0]), np.std(virginica[:,0])])\n",
        "ave_std_per_column[\"sepal width\"] = np.array([np.average(virginica[:,1]), np.std(virginica[:,1])])\n",
        "ave_std_per_column[\"petal length\"] = np.array([np.average(virginica[:,2]), np.std(virginica[:,2])])\n",
        "ave_std_per_column[\"petal width\"] = np.array([np.average(virginica[:,3]), np.std(virginica[:,3])])\n",
        "\n",
        "ave_std_per_class[\"virginica\"] = ave_std_per_column\n",
        "\n",
        "for i in ave_std_per_class:\n",
        "  print(i, ave_std_per_class[i])\n",
        "\n",
        "print(iris.DESCR)"
      ],
      "execution_count": 2,
      "outputs": [
        {
          "output_type": "stream",
          "text": [
            "setosa {'sepal length': array([5.006     , 0.34894699]), 'sepal width': array([3.428     , 0.37525458]), 'petal length': array([1.462     , 0.17191859]), 'petal width': array([0.246     , 0.10432641])}\n",
            "versicolour {'sepal length': array([5.936     , 0.51098337]), 'sepal width': array([2.77      , 0.31064449]), 'petal length': array([4.26      , 0.46518813]), 'petal width': array([1.326     , 0.19576517])}\n",
            "virginica {'sepal length': array([6.588     , 0.62948868]), 'sepal width': array([2.974     , 0.31925538]), 'petal length': array([5.552     , 0.54634787]), 'petal width': array([2.026     , 0.27188968])}\n",
            ".. _iris_dataset:\n",
            "\n",
            "Iris plants dataset\n",
            "--------------------\n",
            "\n",
            "**Data Set Characteristics:**\n",
            "\n",
            "    :Number of Instances: 150 (50 in each of three classes)\n",
            "    :Number of Attributes: 4 numeric, predictive attributes and the class\n",
            "    :Attribute Information:\n",
            "        - sepal length in cm\n",
            "        - sepal width in cm\n",
            "        - petal length in cm\n",
            "        - petal width in cm\n",
            "        - class:\n",
            "                - Iris-Setosa\n",
            "                - Iris-Versicolour\n",
            "                - Iris-Virginica\n",
            "                \n",
            "    :Summary Statistics:\n",
            "\n",
            "    ============== ==== ==== ======= ===== ====================\n",
            "                    Min  Max   Mean    SD   Class Correlation\n",
            "    ============== ==== ==== ======= ===== ====================\n",
            "    sepal length:   4.3  7.9   5.84   0.83    0.7826\n",
            "    sepal width:    2.0  4.4   3.05   0.43   -0.4194\n",
            "    petal length:   1.0  6.9   3.76   1.76    0.9490  (high!)\n",
            "    petal width:    0.1  2.5   1.20   0.76    0.9565  (high!)\n",
            "    ============== ==== ==== ======= ===== ====================\n",
            "\n",
            "    :Missing Attribute Values: None\n",
            "    :Class Distribution: 33.3% for each of 3 classes.\n",
            "    :Creator: R.A. Fisher\n",
            "    :Donor: Michael Marshall (MARSHALL%PLU@io.arc.nasa.gov)\n",
            "    :Date: July, 1988\n",
            "\n",
            "The famous Iris database, first used by Sir R.A. Fisher. The dataset is taken\n",
            "from Fisher's paper. Note that it's the same as in R, but not as in the UCI\n",
            "Machine Learning Repository, which has two wrong data points.\n",
            "\n",
            "This is perhaps the best known database to be found in the\n",
            "pattern recognition literature.  Fisher's paper is a classic in the field and\n",
            "is referenced frequently to this day.  (See Duda & Hart, for example.)  The\n",
            "data set contains 3 classes of 50 instances each, where each class refers to a\n",
            "type of iris plant.  One class is linearly separable from the other 2; the\n",
            "latter are NOT linearly separable from each other.\n",
            "\n",
            ".. topic:: References\n",
            "\n",
            "   - Fisher, R.A. \"The use of multiple measurements in taxonomic problems\"\n",
            "     Annual Eugenics, 7, Part II, 179-188 (1936); also in \"Contributions to\n",
            "     Mathematical Statistics\" (John Wiley, NY, 1950).\n",
            "   - Duda, R.O., & Hart, P.E. (1973) Pattern Classification and Scene Analysis.\n",
            "     (Q327.D83) John Wiley & Sons.  ISBN 0-471-22361-1.  See page 218.\n",
            "   - Dasarathy, B.V. (1980) \"Nosing Around the Neighborhood: A New System\n",
            "     Structure and Classification Rule for Recognition in Partially Exposed\n",
            "     Environments\".  IEEE Transactions on Pattern Analysis and Machine\n",
            "     Intelligence, Vol. PAMI-2, No. 1, 67-71.\n",
            "   - Gates, G.W. (1972) \"The Reduced Nearest Neighbor Rule\".  IEEE Transactions\n",
            "     on Information Theory, May 1972, 431-433.\n",
            "   - See also: 1988 MLC Proceedings, 54-64.  Cheeseman et al\"s AUTOCLASS II\n",
            "     conceptual clustering system finds 3 classes in the data.\n",
            "   - Many, many more ...\n"
          ],
          "name": "stdout"
        }
      ]
    }
  ]
}