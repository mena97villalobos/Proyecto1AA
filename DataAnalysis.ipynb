{
  "nbformat": 4,
  "nbformat_minor": 0,
  "metadata": {
    "colab": {
      "name": "DataAnalysis.ipynb",
      "provenance": [],
      "collapsed_sections": []
    },
    "kernelspec": {
      "name": "python3",
      "display_name": "Python 3"
    },
    "language_info": {
      "name": "python"
    }
  },
  "cells": [
    {
      "cell_type": "code",
      "metadata": {
        "id": "t1RYdoBwuNz9"
      },
      "source": [
        "import numpy as np\n",
        "import pandas as pd\n",
        "from sklearn.datasets import load_iris\n",
        "from sklearn.model_selection import train_test_split"
      ],
      "execution_count": 3,
      "outputs": []
    },
    {
      "cell_type": "code",
      "metadata": {
        "id": "BWAgZvAvxi_U"
      },
      "source": [
        "## Utils functions\n",
        "\n",
        "def group_by_class(data, index):\n",
        "  return np.array([x for x in data if x[-1] == index])\n",
        "\n",
        "def gen_ave_std_per_columns(data, features, index = 0):\n",
        "  result = {}\n",
        "  for x in features:\n",
        "    result[x] = np.array([np.average(data[:,index]), np.std(data[:,index])])\n",
        "    index+=1\n",
        "  return result"
      ],
      "execution_count": 53,
      "outputs": []
    },
    {
      "cell_type": "markdown",
      "metadata": {
        "id": "V19yeL4hvSt4"
      },
      "source": [
        "Dataset load_iris"
      ]
    },
    {
      "cell_type": "code",
      "metadata": {
        "id": "hbmlOWIp2vY_"
      },
      "source": [
        "iris = load_iris()\n",
        "\n",
        "X = iris.data\n",
        "y = iris.target\n",
        "\n",
        "data = np.append(X, y.reshape(-1, 1), axis=1)\n",
        "\n",
        "setosa = group_by_class(data, 0)\n",
        "versicolour = group_by_class(data, 1)\n",
        "virginica = group_by_class(data, 2)"
      ],
      "execution_count": 54,
      "outputs": []
    },
    {
      "cell_type": "code",
      "metadata": {
        "colab": {
          "base_uri": "https://localhost:8080/"
        },
        "id": "fyYhLVmH22vt",
        "outputId": "6b24c3ba-e3b7-4a9d-cf37-531307715fa5"
      },
      "source": [
        "ave_std_per_classes = [gen_ave_std_per_columns(setosa, iris.feature_names), \n",
        "                       gen_ave_std_per_columns(versicolour, iris.feature_names), \n",
        "                       gen_ave_std_per_columns(virginica, iris.feature_names)]\n",
        "\n",
        "ave_std_per_classes"
      ],
      "execution_count": 56,
      "outputs": [
        {
          "output_type": "execute_result",
          "data": {
            "text/plain": [
              "[{'petal length (cm)': array([1.462     , 0.17191859]),\n",
              "  'petal width (cm)': array([0.246     , 0.10432641]),\n",
              "  'sepal length (cm)': array([5.006     , 0.34894699]),\n",
              "  'sepal width (cm)': array([3.428     , 0.37525458])},\n",
              " {'petal length (cm)': array([4.26      , 0.46518813]),\n",
              "  'petal width (cm)': array([1.326     , 0.19576517]),\n",
              "  'sepal length (cm)': array([5.936     , 0.51098337]),\n",
              "  'sepal width (cm)': array([2.77      , 0.31064449])},\n",
              " {'petal length (cm)': array([5.552     , 0.54634787]),\n",
              "  'petal width (cm)': array([2.026     , 0.27188968]),\n",
              "  'sepal length (cm)': array([6.588     , 0.62948868]),\n",
              "  'sepal width (cm)': array([2.974     , 0.31925538])}]"
            ]
          },
          "metadata": {
            "tags": []
          },
          "execution_count": 56
        }
      ]
    },
    {
      "cell_type": "markdown",
      "metadata": {
        "id": "yIjZJ6Rdv8zS"
      },
      "source": [
        "Dataset winequality-red"
      ]
    },
    {
      "cell_type": "code",
      "metadata": {
        "colab": {
          "base_uri": "https://localhost:8080/"
        },
        "id": "AvE9FstwwCdU",
        "outputId": "02109c47-ff89-4b8b-ebbe-42dcc87b2f2f"
      },
      "source": [
        "df = pd.read_csv('./winequality-red.csv')\n",
        "df.chlorides"
      ],
      "execution_count": 7,
      "outputs": [
        {
          "output_type": "execute_result",
          "data": {
            "text/plain": [
              "0       0.076\n",
              "1       0.098\n",
              "2       0.092\n",
              "3       0.075\n",
              "4       0.076\n",
              "        ...  \n",
              "1594    0.090\n",
              "1595    0.062\n",
              "1596    0.076\n",
              "1597    0.075\n",
              "1598    0.067\n",
              "Name: chlorides, Length: 1599, dtype: float64"
            ]
          },
          "metadata": {
            "tags": []
          },
          "execution_count": 7
        }
      ]
    }
  ]
}