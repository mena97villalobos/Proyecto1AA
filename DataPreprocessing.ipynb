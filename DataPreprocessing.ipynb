{
  "nbformat": 4,
  "nbformat_minor": 0,
  "metadata": {
    "kernelspec": {
      "display_name": "Python 3",
      "language": "python",
      "name": "python3"
    },
    "language_info": {
      "codemirror_mode": {
        "name": "ipython",
        "version": 2
      },
      "file_extension": ".py",
      "mimetype": "text/x-python",
      "name": "python",
      "nbconvert_exporter": "python",
      "pygments_lexer": "ipython2",
      "version": "2.7.6"
    },
    "colab": {
      "name": "DataPreprocessing.ipynb",
      "provenance": [],
      "collapsed_sections": []
    }
  },
  "cells": [
    {
      "cell_type": "code",
      "metadata": {
        "collapsed": true,
        "id": "0DtDgc3F1e2z"
      },
      "source": [
        "import pandas as pd\n",
        "from sklearn.model_selection import train_test_split\n",
        "from sklearn.preprocessing import StandardScaler\n",
        "from sklearn.preprocessing import Normalizer"
      ],
      "execution_count": null,
      "outputs": []
    },
    {
      "cell_type": "code",
      "metadata": {
        "pycharm": {
          "name": "#%%\n"
        },
        "id": "Czqsfcbz1e25"
      },
      "source": [
        "df = pd.read_csv('./winequality-red.csv')\n",
        "train_data, test_data = train_test_split(df, test_size=0.2, stratify=df['quality'])\n",
        "train_data.to_csv('./train_data/winequality-train.csv')\n",
        "test_data.to_csv('./test_data/winequality-test.csv')"
      ],
      "execution_count": null,
      "outputs": []
    },
    {
      "cell_type": "code",
      "metadata": {
        "pycharm": {
          "name": "#%%\n"
        },
        "id": "dA-M0ewyeMWH"
      },
      "source": [
        "dataframe_columns = df.columns.values[:-1]\n",
        "df[dataframe_columns] = StandardScaler().fit_transform(df[dataframe_columns])\n",
        "train_data, test_data = train_test_split(df, test_size=0.2, stratify=df['quality'])\n",
        "train_data.to_csv('./train_data/winequality-train-standardize.csv')\n",
        "test_data.to_csv('./test_data/winequality-test-standardize.csv')"
      ],
      "execution_count": null,
      "outputs": []
    },
    {
      "cell_type": "code",
      "metadata": {
        "id": "hrkvVrl8nh1R"
      },
      "source": [
        "dataframe_columns = df.columns.values[:-1]\n",
        "df[dataframe_columns] = Normalizer().fit_transform(df[dataframe_columns])\n",
        "train_data, test_data = train_test_split(df, test_size=0.2, stratify=df['quality'])\n",
        "train_data.to_csv('./train_data/winequality-train-normalize.csv')\n",
        "test_data.to_csv('./test_data/winequality-test-normalize.csv')"
      ],
      "execution_count": null,
      "outputs": []
    },
    {
      "cell_type": "code",
      "metadata": {
        "id": "KLfydGlQZegt",
        "pycharm": {
          "name": "#%%\n"
        }
      },
      "source": [
        "df = pd.read_csv('./spambase_csv.csv')\n",
        "train_data, test_data = train_test_split(df, test_size=0.15, stratify=df['class'])\n",
        "train_data.to_csv('./train_data/spambase-train.csv')\n",
        "test_data.to_csv('./test_data/spambase-test.csv')"
      ],
      "execution_count": null,
      "outputs": []
    },
    {
      "cell_type": "code",
      "metadata": {
        "pycharm": {
          "name": "#%%\n"
        },
        "id": "kGSnA0greMWJ"
      },
      "source": [
        "dataframe_columns = df.columns.values[:-1]\n",
        "df[dataframe_columns] = StandardScaler().fit_transform(df[dataframe_columns])\n",
        "train_data, test_data = train_test_split(df, test_size=0.15, stratify=df['class'])\n",
        "train_data.to_csv('./train_data/spambase-train-standardize.csv')\n",
        "test_data.to_csv('./test_data/spambase-test-standardize.csv')"
      ],
      "execution_count": null,
      "outputs": []
    },
    {
      "cell_type": "code",
      "metadata": {
        "id": "VXONqQgenoqJ"
      },
      "source": [
        "dataframe_columns = df.columns.values[:-1]\n",
        "df[dataframe_columns] = Normalizer().fit_transform(df[dataframe_columns])\n",
        "train_data, test_data = train_test_split(df, test_size=0.15, stratify=df['class'])\n",
        "train_data.to_csv('./train_data/spambase-train-normalize.csv')\n",
        "test_data.to_csv('./test_data/spambase-test-normalize.csv')"
      ],
      "execution_count": null,
      "outputs": []
    }
  ]
}