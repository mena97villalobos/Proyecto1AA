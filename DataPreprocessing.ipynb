{
 "nbformat": 4,
 "nbformat_minor": 0,
 "metadata": {
  "kernelspec": {
   "display_name": "Python 3",
   "language": "python",
   "name": "python3"
  },
  "language_info": {
   "codemirror_mode": {
    "name": "ipython",
    "version": 2
   },
   "file_extension": ".py",
   "mimetype": "text/x-python",
   "name": "python",
   "nbconvert_exporter": "python",
   "pygments_lexer": "ipython2",
   "version": "2.7.6"
  },
  "colab": {
   "name": "DataPreprocessing.ipynb",
   "provenance": [],
   "collapsed_sections": []
  }
 },
 "cells": [
  {
   "cell_type": "code",
   "metadata": {
    "collapsed": true,
    "id": "0DtDgc3F1e2z"
   },
   "source": [
    "import pandas as pd\n",
    "from sklearn.model_selection import train_test_split\n",
    "from sklearn.preprocessing import StandardScaler"
   ],
   "execution_count": 43,
   "outputs": []
  },
  {
   "cell_type": "code",
   "metadata": {
    "pycharm": {
     "name": "#%%\n"
    },
    "colab": {
     "base_uri": "https://localhost:8080/",
     "height": 404
    },
    "id": "Czqsfcbz1e25",
    "outputId": "7a66d30f-4263-46c1-850c-c1ee3632ad29"
   },
   "source": [
    "df = pd.read_csv('./winequality-red.csv')\n",
    "train_data, test_data = train_test_split(df, test_size=0.2, stratify=df['quality'])\n",
    "train_data.to_csv('./train_data/winequality-train.csv')\n",
    "test_data.to_csv('./test_data/winequality-test.csv')"
   ],
   "execution_count": 44,
   "outputs": []
  },
  {
   "cell_type": "code",
   "execution_count": 45,
   "outputs": [],
   "source": [
    "dataframe_columns = df.columns.values[:-1]\n",
    "df[dataframe_columns] = StandardScaler().fit_transform(df[dataframe_columns])\n",
    "train_data, test_data = train_test_split(df, test_size=0.2, stratify=df['quality'])\n",
    "train_data.to_csv('./train_data/winequality-train-standardize.csv')\n",
    "test_data.to_csv('./test_data/winequality-test-standardize.csv')\n"
   ],
   "metadata": {
    "collapsed": false,
    "pycharm": {
     "name": "#%%\n"
    }
   }
  },
  {
   "cell_type": "code",
   "metadata": {
    "colab": {
     "base_uri": "https://localhost:8080/",
     "height": 106
    },
    "id": "KLfydGlQZegt",
    "outputId": "92a4dd4f-a4a8-4a6f-853b-5c5b9669d2b0",
    "pycharm": {
     "name": "#%%\n"
    }
   },
   "source": [
    "df = pd.read_csv('./spambase_csv.csv')\n",
    "train_data, test_data = train_test_split(df, test_size=0.15, stratify=df['class'])\n",
    "train_data.to_csv('./train_data/spambase-train.csv')\n",
    "test_data.to_csv('./test_data/spambase-test.csv')"
   ],
   "execution_count": 46,
   "outputs": []
  },
  {
   "cell_type": "code",
   "execution_count": 47,
   "outputs": [],
   "source": [
    "dataframe_columns = df.columns.values[:-1]\n",
    "df[dataframe_columns] = StandardScaler().fit_transform(df[dataframe_columns])\n",
    "train_data, test_data = train_test_split(df, test_size=0.15, stratify=df['class'])\n",
    "train_data.to_csv('./train_data/spambase-train-standardize.csv')\n",
    "test_data.to_csv('./test_data/spambase-test-standardize.csv')"
   ],
   "metadata": {
    "collapsed": false,
    "pycharm": {
     "name": "#%%\n"
    }
   }
  }
 ]
}