{
  "nbformat": 4,
  "nbformat_minor": 0,
  "metadata": {
    "kernelspec": {
      "display_name": "Python 3",
      "language": "python",
      "name": "python3"
    },
    "language_info": {
      "codemirror_mode": {
        "name": "ipython",
        "version": 2
      },
      "file_extension": ".py",
      "mimetype": "text/x-python",
      "name": "python",
      "nbconvert_exporter": "python",
      "pygments_lexer": "ipython2",
      "version": "2.7.6"
    },
    "colab": {
      "name": "DataPreprocessing.ipynb",
      "provenance": [],
      "collapsed_sections": []
    }
  },
  "cells": [
    {
      "cell_type": "code",
      "metadata": {
        "collapsed": true,
        "id": "0DtDgc3F1e2z"
      },
      "source": [
        "import pandas as pd\n",
        "import numpy as np\n",
        "from sklearn.model_selection import train_test_split"
      ],
      "execution_count": 11,
      "outputs": []
    },
    {
      "cell_type": "code",
      "metadata": {
        "pycharm": {
          "name": "#%%\n"
        },
        "colab": {
          "base_uri": "https://localhost:8080/",
          "height": 404
        },
        "id": "Czqsfcbz1e25",
        "outputId": "7a66d30f-4263-46c1-850c-c1ee3632ad29"
      },
      "source": [
        "df = pd.read_csv('./winequality-red.csv')\n",
        "df['count'] = 1\n",
        "df[['count', 'quality']].groupby(['quality']).count().reset_index()"
      ],
      "execution_count": 2,
      "outputs": [
        {
          "output_type": "error",
          "ename": "FileNotFoundError",
          "evalue": "ignored",
          "traceback": [
            "\u001b[0;31m---------------------------------------------------------------------------\u001b[0m",
            "\u001b[0;31mFileNotFoundError\u001b[0m                         Traceback (most recent call last)",
            "\u001b[0;32m<ipython-input-2-f6cf80b7447c>\u001b[0m in \u001b[0;36m<module>\u001b[0;34m()\u001b[0m\n\u001b[0;32m----> 1\u001b[0;31m \u001b[0mdf\u001b[0m \u001b[0;34m=\u001b[0m \u001b[0mpd\u001b[0m\u001b[0;34m.\u001b[0m\u001b[0mread_csv\u001b[0m\u001b[0;34m(\u001b[0m\u001b[0;34m'./winequality-red.csv'\u001b[0m\u001b[0;34m)\u001b[0m\u001b[0;34m\u001b[0m\u001b[0;34m\u001b[0m\u001b[0m\n\u001b[0m\u001b[1;32m      2\u001b[0m \u001b[0mdf\u001b[0m\u001b[0;34m[\u001b[0m\u001b[0;34m'count'\u001b[0m\u001b[0;34m]\u001b[0m \u001b[0;34m=\u001b[0m \u001b[0;36m1\u001b[0m\u001b[0;34m\u001b[0m\u001b[0;34m\u001b[0m\u001b[0m\n\u001b[1;32m      3\u001b[0m \u001b[0mdf\u001b[0m\u001b[0;34m[\u001b[0m\u001b[0;34m[\u001b[0m\u001b[0;34m'count'\u001b[0m\u001b[0;34m,\u001b[0m \u001b[0;34m'quality'\u001b[0m\u001b[0;34m]\u001b[0m\u001b[0;34m]\u001b[0m\u001b[0;34m.\u001b[0m\u001b[0mgroupby\u001b[0m\u001b[0;34m(\u001b[0m\u001b[0;34m[\u001b[0m\u001b[0;34m'quality'\u001b[0m\u001b[0;34m]\u001b[0m\u001b[0;34m)\u001b[0m\u001b[0;34m.\u001b[0m\u001b[0mcount\u001b[0m\u001b[0;34m(\u001b[0m\u001b[0;34m)\u001b[0m\u001b[0;34m.\u001b[0m\u001b[0mreset_index\u001b[0m\u001b[0;34m(\u001b[0m\u001b[0;34m)\u001b[0m\u001b[0;34m\u001b[0m\u001b[0;34m\u001b[0m\u001b[0m\n",
            "\u001b[0;32m/usr/local/lib/python3.7/dist-packages/pandas/io/parsers.py\u001b[0m in \u001b[0;36mread_csv\u001b[0;34m(filepath_or_buffer, sep, delimiter, header, names, index_col, usecols, squeeze, prefix, mangle_dupe_cols, dtype, engine, converters, true_values, false_values, skipinitialspace, skiprows, skipfooter, nrows, na_values, keep_default_na, na_filter, verbose, skip_blank_lines, parse_dates, infer_datetime_format, keep_date_col, date_parser, dayfirst, cache_dates, iterator, chunksize, compression, thousands, decimal, lineterminator, quotechar, quoting, doublequote, escapechar, comment, encoding, dialect, error_bad_lines, warn_bad_lines, delim_whitespace, low_memory, memory_map, float_precision)\u001b[0m\n\u001b[1;32m    686\u001b[0m     )\n\u001b[1;32m    687\u001b[0m \u001b[0;34m\u001b[0m\u001b[0m\n\u001b[0;32m--> 688\u001b[0;31m     \u001b[0;32mreturn\u001b[0m \u001b[0m_read\u001b[0m\u001b[0;34m(\u001b[0m\u001b[0mfilepath_or_buffer\u001b[0m\u001b[0;34m,\u001b[0m \u001b[0mkwds\u001b[0m\u001b[0;34m)\u001b[0m\u001b[0;34m\u001b[0m\u001b[0;34m\u001b[0m\u001b[0m\n\u001b[0m\u001b[1;32m    689\u001b[0m \u001b[0;34m\u001b[0m\u001b[0m\n\u001b[1;32m    690\u001b[0m \u001b[0;34m\u001b[0m\u001b[0m\n",
            "\u001b[0;32m/usr/local/lib/python3.7/dist-packages/pandas/io/parsers.py\u001b[0m in \u001b[0;36m_read\u001b[0;34m(filepath_or_buffer, kwds)\u001b[0m\n\u001b[1;32m    452\u001b[0m \u001b[0;34m\u001b[0m\u001b[0m\n\u001b[1;32m    453\u001b[0m     \u001b[0;31m# Create the parser.\u001b[0m\u001b[0;34m\u001b[0m\u001b[0;34m\u001b[0m\u001b[0;34m\u001b[0m\u001b[0m\n\u001b[0;32m--> 454\u001b[0;31m     \u001b[0mparser\u001b[0m \u001b[0;34m=\u001b[0m \u001b[0mTextFileReader\u001b[0m\u001b[0;34m(\u001b[0m\u001b[0mfp_or_buf\u001b[0m\u001b[0;34m,\u001b[0m \u001b[0;34m**\u001b[0m\u001b[0mkwds\u001b[0m\u001b[0;34m)\u001b[0m\u001b[0;34m\u001b[0m\u001b[0;34m\u001b[0m\u001b[0m\n\u001b[0m\u001b[1;32m    455\u001b[0m \u001b[0;34m\u001b[0m\u001b[0m\n\u001b[1;32m    456\u001b[0m     \u001b[0;32mif\u001b[0m \u001b[0mchunksize\u001b[0m \u001b[0;32mor\u001b[0m \u001b[0miterator\u001b[0m\u001b[0;34m:\u001b[0m\u001b[0;34m\u001b[0m\u001b[0;34m\u001b[0m\u001b[0m\n",
            "\u001b[0;32m/usr/local/lib/python3.7/dist-packages/pandas/io/parsers.py\u001b[0m in \u001b[0;36m__init__\u001b[0;34m(self, f, engine, **kwds)\u001b[0m\n\u001b[1;32m    946\u001b[0m             \u001b[0mself\u001b[0m\u001b[0;34m.\u001b[0m\u001b[0moptions\u001b[0m\u001b[0;34m[\u001b[0m\u001b[0;34m\"has_index_names\"\u001b[0m\u001b[0;34m]\u001b[0m \u001b[0;34m=\u001b[0m \u001b[0mkwds\u001b[0m\u001b[0;34m[\u001b[0m\u001b[0;34m\"has_index_names\"\u001b[0m\u001b[0;34m]\u001b[0m\u001b[0;34m\u001b[0m\u001b[0;34m\u001b[0m\u001b[0m\n\u001b[1;32m    947\u001b[0m \u001b[0;34m\u001b[0m\u001b[0m\n\u001b[0;32m--> 948\u001b[0;31m         \u001b[0mself\u001b[0m\u001b[0;34m.\u001b[0m\u001b[0m_make_engine\u001b[0m\u001b[0;34m(\u001b[0m\u001b[0mself\u001b[0m\u001b[0;34m.\u001b[0m\u001b[0mengine\u001b[0m\u001b[0;34m)\u001b[0m\u001b[0;34m\u001b[0m\u001b[0;34m\u001b[0m\u001b[0m\n\u001b[0m\u001b[1;32m    949\u001b[0m \u001b[0;34m\u001b[0m\u001b[0m\n\u001b[1;32m    950\u001b[0m     \u001b[0;32mdef\u001b[0m \u001b[0mclose\u001b[0m\u001b[0;34m(\u001b[0m\u001b[0mself\u001b[0m\u001b[0;34m)\u001b[0m\u001b[0;34m:\u001b[0m\u001b[0;34m\u001b[0m\u001b[0;34m\u001b[0m\u001b[0m\n",
            "\u001b[0;32m/usr/local/lib/python3.7/dist-packages/pandas/io/parsers.py\u001b[0m in \u001b[0;36m_make_engine\u001b[0;34m(self, engine)\u001b[0m\n\u001b[1;32m   1178\u001b[0m     \u001b[0;32mdef\u001b[0m \u001b[0m_make_engine\u001b[0m\u001b[0;34m(\u001b[0m\u001b[0mself\u001b[0m\u001b[0;34m,\u001b[0m \u001b[0mengine\u001b[0m\u001b[0;34m=\u001b[0m\u001b[0;34m\"c\"\u001b[0m\u001b[0;34m)\u001b[0m\u001b[0;34m:\u001b[0m\u001b[0;34m\u001b[0m\u001b[0;34m\u001b[0m\u001b[0m\n\u001b[1;32m   1179\u001b[0m         \u001b[0;32mif\u001b[0m \u001b[0mengine\u001b[0m \u001b[0;34m==\u001b[0m \u001b[0;34m\"c\"\u001b[0m\u001b[0;34m:\u001b[0m\u001b[0;34m\u001b[0m\u001b[0;34m\u001b[0m\u001b[0m\n\u001b[0;32m-> 1180\u001b[0;31m             \u001b[0mself\u001b[0m\u001b[0;34m.\u001b[0m\u001b[0m_engine\u001b[0m \u001b[0;34m=\u001b[0m \u001b[0mCParserWrapper\u001b[0m\u001b[0;34m(\u001b[0m\u001b[0mself\u001b[0m\u001b[0;34m.\u001b[0m\u001b[0mf\u001b[0m\u001b[0;34m,\u001b[0m \u001b[0;34m**\u001b[0m\u001b[0mself\u001b[0m\u001b[0;34m.\u001b[0m\u001b[0moptions\u001b[0m\u001b[0;34m)\u001b[0m\u001b[0;34m\u001b[0m\u001b[0;34m\u001b[0m\u001b[0m\n\u001b[0m\u001b[1;32m   1181\u001b[0m         \u001b[0;32melse\u001b[0m\u001b[0;34m:\u001b[0m\u001b[0;34m\u001b[0m\u001b[0;34m\u001b[0m\u001b[0m\n\u001b[1;32m   1182\u001b[0m             \u001b[0;32mif\u001b[0m \u001b[0mengine\u001b[0m \u001b[0;34m==\u001b[0m \u001b[0;34m\"python\"\u001b[0m\u001b[0;34m:\u001b[0m\u001b[0;34m\u001b[0m\u001b[0;34m\u001b[0m\u001b[0m\n",
            "\u001b[0;32m/usr/local/lib/python3.7/dist-packages/pandas/io/parsers.py\u001b[0m in \u001b[0;36m__init__\u001b[0;34m(self, src, **kwds)\u001b[0m\n\u001b[1;32m   2008\u001b[0m         \u001b[0mkwds\u001b[0m\u001b[0;34m[\u001b[0m\u001b[0;34m\"usecols\"\u001b[0m\u001b[0;34m]\u001b[0m \u001b[0;34m=\u001b[0m \u001b[0mself\u001b[0m\u001b[0;34m.\u001b[0m\u001b[0musecols\u001b[0m\u001b[0;34m\u001b[0m\u001b[0;34m\u001b[0m\u001b[0m\n\u001b[1;32m   2009\u001b[0m \u001b[0;34m\u001b[0m\u001b[0m\n\u001b[0;32m-> 2010\u001b[0;31m         \u001b[0mself\u001b[0m\u001b[0;34m.\u001b[0m\u001b[0m_reader\u001b[0m \u001b[0;34m=\u001b[0m \u001b[0mparsers\u001b[0m\u001b[0;34m.\u001b[0m\u001b[0mTextReader\u001b[0m\u001b[0;34m(\u001b[0m\u001b[0msrc\u001b[0m\u001b[0;34m,\u001b[0m \u001b[0;34m**\u001b[0m\u001b[0mkwds\u001b[0m\u001b[0;34m)\u001b[0m\u001b[0;34m\u001b[0m\u001b[0;34m\u001b[0m\u001b[0m\n\u001b[0m\u001b[1;32m   2011\u001b[0m         \u001b[0mself\u001b[0m\u001b[0;34m.\u001b[0m\u001b[0munnamed_cols\u001b[0m \u001b[0;34m=\u001b[0m \u001b[0mself\u001b[0m\u001b[0;34m.\u001b[0m\u001b[0m_reader\u001b[0m\u001b[0;34m.\u001b[0m\u001b[0munnamed_cols\u001b[0m\u001b[0;34m\u001b[0m\u001b[0;34m\u001b[0m\u001b[0m\n\u001b[1;32m   2012\u001b[0m \u001b[0;34m\u001b[0m\u001b[0m\n",
            "\u001b[0;32mpandas/_libs/parsers.pyx\u001b[0m in \u001b[0;36mpandas._libs.parsers.TextReader.__cinit__\u001b[0;34m()\u001b[0m\n",
            "\u001b[0;32mpandas/_libs/parsers.pyx\u001b[0m in \u001b[0;36mpandas._libs.parsers.TextReader._setup_parser_source\u001b[0;34m()\u001b[0m\n",
            "\u001b[0;31mFileNotFoundError\u001b[0m: [Errno 2] No such file or directory: './winequality-red.csv'"
          ]
        }
      ]
    },
    {
      "cell_type": "code",
      "metadata": {
        "pycharm": {
          "name": "#%%\n"
        },
        "id": "T3QbyAtd1e26"
      },
      "source": [
        "train_data, test_data = train_test_split(df, test_size=0.2, stratify=df['quality'])\n",
        "train_data[['count', 'quality']].groupby(['quality']).count().reset_index()"
      ],
      "execution_count": null,
      "outputs": []
    },
    {
      "cell_type": "code",
      "metadata": {
        "pycharm": {
          "name": "#%%\n"
        },
        "id": "PiPlmYSy1e27"
      },
      "source": [
        "test_data[['count', 'quality']].groupby(['quality']).count().reset_index()"
      ],
      "execution_count": null,
      "outputs": []
    },
    {
      "cell_type": "code",
      "metadata": {
        "colab": {
          "base_uri": "https://localhost:8080/",
          "height": 106
        },
        "id": "KLfydGlQZegt",
        "outputId": "92a4dd4f-a4a8-4a6f-853b-5c5b9669d2b0"
      },
      "source": [
        "df = pd.read_csv('./spambase_csv.csv')\n",
        "df['count'] = 1\n",
        "df[['count', 'class']].groupby(['class']).count().reset_index()"
      ],
      "execution_count": 3,
      "outputs": [
        {
          "output_type": "execute_result",
          "data": {
            "text/html": [
              "<div>\n",
              "<style scoped>\n",
              "    .dataframe tbody tr th:only-of-type {\n",
              "        vertical-align: middle;\n",
              "    }\n",
              "\n",
              "    .dataframe tbody tr th {\n",
              "        vertical-align: top;\n",
              "    }\n",
              "\n",
              "    .dataframe thead th {\n",
              "        text-align: right;\n",
              "    }\n",
              "</style>\n",
              "<table border=\"1\" class=\"dataframe\">\n",
              "  <thead>\n",
              "    <tr style=\"text-align: right;\">\n",
              "      <th></th>\n",
              "      <th>class</th>\n",
              "      <th>count</th>\n",
              "    </tr>\n",
              "  </thead>\n",
              "  <tbody>\n",
              "    <tr>\n",
              "      <th>0</th>\n",
              "      <td>0</td>\n",
              "      <td>2788</td>\n",
              "    </tr>\n",
              "    <tr>\n",
              "      <th>1</th>\n",
              "      <td>1</td>\n",
              "      <td>1813</td>\n",
              "    </tr>\n",
              "  </tbody>\n",
              "</table>\n",
              "</div>"
            ],
            "text/plain": [
              "   class  count\n",
              "0      0   2788\n",
              "1      1   1813"
            ]
          },
          "metadata": {
            "tags": []
          },
          "execution_count": 3
        }
      ]
    },
    {
      "cell_type": "code",
      "metadata": {
        "colab": {
          "base_uri": "https://localhost:8080/",
          "height": 106
        },
        "id": "IBWc3-L3ZjDo",
        "outputId": "0f5d9bf5-fc19-43cb-c36c-dfc256241c5d"
      },
      "source": [
        "train_data, test_data = train_test_split(df, test_size=0.15, stratify=df['class'])\n",
        "train_data[['count', 'class']].groupby(['class']).count().reset_index()"
      ],
      "execution_count": 4,
      "outputs": [
        {
          "output_type": "execute_result",
          "data": {
            "text/html": [
              "<div>\n",
              "<style scoped>\n",
              "    .dataframe tbody tr th:only-of-type {\n",
              "        vertical-align: middle;\n",
              "    }\n",
              "\n",
              "    .dataframe tbody tr th {\n",
              "        vertical-align: top;\n",
              "    }\n",
              "\n",
              "    .dataframe thead th {\n",
              "        text-align: right;\n",
              "    }\n",
              "</style>\n",
              "<table border=\"1\" class=\"dataframe\">\n",
              "  <thead>\n",
              "    <tr style=\"text-align: right;\">\n",
              "      <th></th>\n",
              "      <th>class</th>\n",
              "      <th>count</th>\n",
              "    </tr>\n",
              "  </thead>\n",
              "  <tbody>\n",
              "    <tr>\n",
              "      <th>0</th>\n",
              "      <td>0</td>\n",
              "      <td>2369</td>\n",
              "    </tr>\n",
              "    <tr>\n",
              "      <th>1</th>\n",
              "      <td>1</td>\n",
              "      <td>1541</td>\n",
              "    </tr>\n",
              "  </tbody>\n",
              "</table>\n",
              "</div>"
            ],
            "text/plain": [
              "   class  count\n",
              "0      0   2369\n",
              "1      1   1541"
            ]
          },
          "metadata": {
            "tags": []
          },
          "execution_count": 4
        }
      ]
    },
    {
      "cell_type": "code",
      "metadata": {
        "colab": {
          "base_uri": "https://localhost:8080/",
          "height": 106
        },
        "id": "v7ihaKd3Zkzj",
        "outputId": "fc1526bf-4a20-4be5-ca52-9183347ccd1a"
      },
      "source": [
        "test_data[['count', 'class']].groupby(['class']).count().reset_index()"
      ],
      "execution_count": 5,
      "outputs": [
        {
          "output_type": "execute_result",
          "data": {
            "text/html": [
              "<div>\n",
              "<style scoped>\n",
              "    .dataframe tbody tr th:only-of-type {\n",
              "        vertical-align: middle;\n",
              "    }\n",
              "\n",
              "    .dataframe tbody tr th {\n",
              "        vertical-align: top;\n",
              "    }\n",
              "\n",
              "    .dataframe thead th {\n",
              "        text-align: right;\n",
              "    }\n",
              "</style>\n",
              "<table border=\"1\" class=\"dataframe\">\n",
              "  <thead>\n",
              "    <tr style=\"text-align: right;\">\n",
              "      <th></th>\n",
              "      <th>class</th>\n",
              "      <th>count</th>\n",
              "    </tr>\n",
              "  </thead>\n",
              "  <tbody>\n",
              "    <tr>\n",
              "      <th>0</th>\n",
              "      <td>0</td>\n",
              "      <td>419</td>\n",
              "    </tr>\n",
              "    <tr>\n",
              "      <th>1</th>\n",
              "      <td>1</td>\n",
              "      <td>272</td>\n",
              "    </tr>\n",
              "  </tbody>\n",
              "</table>\n",
              "</div>"
            ],
            "text/plain": [
              "   class  count\n",
              "0      0    419\n",
              "1      1    272"
            ]
          },
          "metadata": {
            "tags": []
          },
          "execution_count": 5
        }
      ]
    },
    {
      "cell_type": "code",
      "metadata": {
        "colab": {
          "base_uri": "https://localhost:8080/"
        },
        "id": "uKdZiwidlZXc",
        "outputId": "e0930d20-118c-4b73-e751-05e22f4c724e"
      },
      "source": [
        "X_train = train_data.drop(['class','count'], axis = 1)\n",
        "y_train = train_data['class']\n",
        "\n",
        "X_train, y_train"
      ],
      "execution_count": 6,
      "outputs": [
        {
          "output_type": "execute_result",
          "data": {
            "text/plain": [
              "(      word_freq_make  ...  capital_run_length_total\n",
              " 3722            0.00  ...                       117\n",
              " 1910            0.31  ...                        94\n",
              " 819             0.47  ...                       742\n",
              " 3265            0.49  ...                        87\n",
              " 2398            0.00  ...                        26\n",
              " ...              ...  ...                       ...\n",
              " 277             0.00  ...                       373\n",
              " 3861            0.19  ...                       207\n",
              " 2931            0.00  ...                       168\n",
              " 19              0.00  ...                       186\n",
              " 2314            0.00  ...                       177\n",
              " \n",
              " [3910 rows x 57 columns], 3722    0\n",
              " 1910    0\n",
              " 819     1\n",
              " 3265    0\n",
              " 2398    0\n",
              "        ..\n",
              " 277     1\n",
              " 3861    0\n",
              " 2931    0\n",
              " 19      1\n",
              " 2314    0\n",
              " Name: class, Length: 3910, dtype: int64)"
            ]
          },
          "metadata": {
            "tags": []
          },
          "execution_count": 6
        }
      ]
    },
    {
      "cell_type": "code",
      "metadata": {
        "colab": {
          "base_uri": "https://localhost:8080/"
        },
        "id": "t1f9mgY6oKP2",
        "outputId": "66b209f6-245c-4213-f82e-803148b424c7"
      },
      "source": [
        "X_test = test_data.drop(['class','count'], axis = 1)\n",
        "y_test = test_data['class']\n",
        "\n",
        "X_test, y_test"
      ],
      "execution_count": 12,
      "outputs": [
        {
          "output_type": "execute_result",
          "data": {
            "text/plain": [
              "(      word_freq_make  ...  capital_run_length_total\n",
              " 1684            0.00  ...                       981\n",
              " 561             0.00  ...                        96\n",
              " 563             0.00  ...                       158\n",
              " 1523            0.49  ...                       966\n",
              " 4412            0.71  ...                        32\n",
              " ...              ...  ...                       ...\n",
              " 2062            0.34  ...                       250\n",
              " 622             0.00  ...                        36\n",
              " 1701            1.06  ...                       713\n",
              " 483             0.65  ...                       595\n",
              " 2983            0.00  ...                        30\n",
              " \n",
              " [691 rows x 57 columns], 1684    1\n",
              " 561     1\n",
              " 563     1\n",
              " 1523    1\n",
              " 4412    0\n",
              "        ..\n",
              " 2062    0\n",
              " 622     1\n",
              " 1701    1\n",
              " 483     1\n",
              " 2983    0\n",
              " Name: class, Length: 691, dtype: int64)"
            ]
          },
          "metadata": {
            "tags": []
          },
          "execution_count": 12
        }
      ]
    },
    {
      "cell_type": "code",
      "metadata": {
        "colab": {
          "base_uri": "https://localhost:8080/"
        },
        "id": "Prqsx6Geqb_D",
        "outputId": "99c65fa4-f7d5-4666-f39d-ebb31a61759f"
      },
      "source": [
        "X_train.columns\n",
        "\n",
        "{x : np.array([np.average(X_train[x]), np.std(X_train[x])]) for x in X_train.columns}"
      ],
      "execution_count": 13,
      "outputs": [
        {
          "output_type": "execute_result",
          "data": {
            "text/plain": [
              "{'capital_run_length_average': array([ 5.08067468, 32.56861706]),\n",
              " 'capital_run_length_longest': array([ 52.04731458, 203.628561  ]),\n",
              " 'capital_run_length_total': array([288.5797954 , 627.85468789]),\n",
              " 'char_freq_%21': array([0.27193223, 0.84819434]),\n",
              " 'char_freq_%23': array([0.04646496, 0.46123246]),\n",
              " 'char_freq_%24': array([0.07461611, 0.21898105]),\n",
              " 'char_freq_%28': array([0.13848107, 0.27344917]),\n",
              " 'char_freq_%3B': array([0.03991049, 0.25445775]),\n",
              " 'char_freq_%5B': array([0.01800358, 0.11665663]),\n",
              " 'word_freq_000': array([0.10323785, 0.35830662]),\n",
              " 'word_freq_1999': array([0.13563427, 0.42164359]),\n",
              " 'word_freq_3d': array([0.06500767, 1.39700591]),\n",
              " 'word_freq_415': array([0.04385166, 0.29964028]),\n",
              " 'word_freq_650': array([0.12270077, 0.52764304]),\n",
              " 'word_freq_85': array([0.10329156, 0.53495673]),\n",
              " 'word_freq_857': array([0.04295652, 0.29848219]),\n",
              " 'word_freq_address': array([0.20896675, 1.2725438 ]),\n",
              " 'word_freq_addresses': array([0.05120716, 0.26623284]),\n",
              " 'word_freq_all': array([0.27928389, 0.49796147]),\n",
              " 'word_freq_business': array([0.14292583, 0.44112763]),\n",
              " 'word_freq_conference': array([0.0300179 , 0.27839396]),\n",
              " 'word_freq_credit': array([0.07944246, 0.42654461]),\n",
              " 'word_freq_cs': array([0.0434578 , 0.36239543]),\n",
              " 'word_freq_data': array([0.09853197, 0.54951375]),\n",
              " 'word_freq_direct': array([0.06277494, 0.33038859]),\n",
              " 'word_freq_edu': array([0.19149105, 0.96749274]),\n",
              " 'word_freq_email': array([0.18272634, 0.5187366 ]),\n",
              " 'word_freq_font': array([0.12805371, 1.06440775]),\n",
              " 'word_freq_free': array([0.24816368, 0.79804909]),\n",
              " 'word_freq_george': array([0.73776726, 3.27255266]),\n",
              " 'word_freq_hp': array([0.54197698, 1.6477348 ]),\n",
              " 'word_freq_hpl': array([0.26496675, 0.89784262]),\n",
              " 'word_freq_internet': array([0.09746547, 0.3366773 ]),\n",
              " 'word_freq_lab': array([0.09001023, 0.5468535 ]),\n",
              " 'word_freq_labs': array([0.09949361, 0.44597461]),\n",
              " 'word_freq_mail': array([0.24329668, 0.66243166]),\n",
              " 'word_freq_make': array([0.10557289, 0.30634195]),\n",
              " 'word_freq_meeting': array([0.12683376, 0.70290461]),\n",
              " 'word_freq_money': array([0.09759079, 0.46523137]),\n",
              " 'word_freq_order': array([0.09120716, 0.27965767]),\n",
              " 'word_freq_original': array([0.04770077, 0.23024508]),\n",
              " 'word_freq_our': array([0.31605627, 0.67384638]),\n",
              " 'word_freq_over': array([0.09626087, 0.27805285]),\n",
              " 'word_freq_parts': array([0.01513043, 0.23903048]),\n",
              " 'word_freq_people': array([0.09342711, 0.28724286]),\n",
              " 'word_freq_pm': array([0.07494629, 0.39019411]),\n",
              " 'word_freq_project': array([0.07682097, 0.57060841]),\n",
              " 'word_freq_re': array([0.30942455, 1.04550699]),\n",
              " 'word_freq_receive': array([0.05995652, 0.20378433]),\n",
              " 'word_freq_remove': array([0.11451918, 0.38249826]),\n",
              " 'word_freq_report': array([0.05362148, 0.28119207]),\n",
              " 'word_freq_table': array([0.00554731, 0.07728841]),\n",
              " 'word_freq_technology': array([0.09473657, 0.38886315]),\n",
              " 'word_freq_telnet': array([0.05846803, 0.3397326 ]),\n",
              " 'word_freq_will': array([0.55070077, 0.87421946]),\n",
              " 'word_freq_you': array([1.66314322, 1.77845675]),\n",
              " 'word_freq_your': array([0.80674936, 1.19604373])}"
            ]
          },
          "metadata": {
            "tags": []
          },
          "execution_count": 13
        }
      ]
    }
  ]
}