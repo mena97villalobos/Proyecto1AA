{
 "cells": [
  {
   "cell_type": "code",
   "execution_count": 3,
   "metadata": {
    "collapsed": true
   },
   "outputs": [],
   "source": [
    "import data_provider\n",
    "from sklearn.neighbors import KNeighborsClassifier\n",
    "from sklearn import metrics"
   ]
  },
  {
   "cell_type": "code",
   "execution_count": 4,
   "outputs": [
    {
     "name": "stdout",
     "output_type": "stream",
     "text": [
      "Model: Wine Quality\n",
      "Accuracy: 0.6625\n",
      "AUC: 0.6643510341850152\n",
      "Precision: 0.7032258064516129\n",
      "Recall: 0.6374269005847953\n",
      "ROC: (array([0.        , 0.30872483, 1.        ]), array([0.       , 0.6374269, 1.       ]), array([2, 1, 0]))\n",
      "\n",
      "Model: Spam Base\n",
      "Accuracy: 0.8176555716353111\n",
      "AUC: 0.8077223431138565\n",
      "Precision: 0.7723880597014925\n",
      "Recall: 0.7610294117647058\n",
      "ROC: (array([0.        , 0.14558473, 1.        ]), array([0.        , 0.76102941, 1.        ]), array([2, 1, 0]))\n",
      "\n",
      "Model: Wine Quality Standard\n",
      "Accuracy: 0.696875\n",
      "AUC: 0.6952195926056752\n",
      "Precision: 0.7151162790697675\n",
      "Recall: 0.7192982456140351\n",
      "ROC: (array([0.        , 0.32885906, 1.        ]), array([0.        , 0.71929825, 1.        ]), array([2, 1, 0]))\n",
      "\n",
      "Model: Spam Base Standard\n",
      "Accuracy: 0.9073806078147613\n",
      "AUC: 0.9023453951986523\n",
      "Precision: 0.8851851851851852\n",
      "Recall: 0.8786764705882353\n",
      "ROC: (array([0.        , 0.07398568, 1.        ]), array([0.        , 0.87867647, 1.        ]), array([2, 1, 0]))\n",
      "\n"
     ]
    }
   ],
   "source": [
    "for dataset in data_provider.data():\n",
    "    model: KNeighborsClassifier = KNeighborsClassifier(n_neighbors=3)\n",
    "    features_train = dataset['train'][0]\n",
    "    labels_train = dataset['train'][1]\n",
    "\n",
    "    features_test = dataset['test'][0]\n",
    "    labels_test = dataset['test'][1]\n",
    "\n",
    "    model.fit(features_train, labels_train)\n",
    "\n",
    "    predictions = model.predict(features_test)\n",
    "    print(\"Model: {}\".format(dataset['label']))\n",
    "    print(\"Accuracy: {}\".format(model.score(features_test, labels_test)))\n",
    "    fpr, tpr, tresholds = metrics.roc_curve(labels_test, predictions)\n",
    "    print(\"AUC: {}\".format(metrics.auc(fpr, tpr)))\n",
    "    print(\"Precision: {}\".format(metrics.precision_score(labels_test, predictions)))\n",
    "    print(\"Recall: {}\".format(metrics.recall_score(labels_test, predictions)))\n",
    "    print(\"ROC: {}\".format(metrics.roc_curve(labels_test, predictions)))\n",
    "    print()"
   ],
   "metadata": {
    "collapsed": false,
    "pycharm": {
     "name": "#%%\n"
    }
   }
  }
 ],
 "metadata": {
  "kernelspec": {
   "display_name": "Python 3",
   "language": "python",
   "name": "python3"
  },
  "language_info": {
   "codemirror_mode": {
    "name": "ipython",
    "version": 2
   },
   "file_extension": ".py",
   "mimetype": "text/x-python",
   "name": "python",
   "nbconvert_exporter": "python",
   "pygments_lexer": "ipython2",
   "version": "2.7.6"
  }
 },
 "nbformat": 4,
 "nbformat_minor": 0
}