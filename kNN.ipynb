{
 "cells": [
  {
   "cell_type": "code",
   "execution_count": 4,
   "metadata": {
    "collapsed": true
   },
   "outputs": [],
   "source": [
    "import data_provider\n",
    "from sklearn.neighbors import KNeighborsClassifier\n",
    "from sklearn import metrics\n",
    "from sklearn.model_selection import GridSearchCV"
   ]
  },
  {
   "cell_type": "code",
   "execution_count": 5,
   "outputs": [
    {
     "name": "stdout",
     "output_type": "stream",
     "text": [
      "Fitting 3 folds for each of 16 candidates, totalling 48 fits\n",
      "Model: Wine Quality\n",
      "Accuracy: 0.7625\n",
      "AUC: 0.7609403822755996\n",
      "Precision: 0.7745664739884393\n",
      "Recall: 0.783625730994152\n",
      "ROC: (array([0.        , 0.26174497, 1.        ]), array([0.        , 0.78362573, 1.        ]), array([2, 1, 0]))\n",
      "\n",
      "Fitting 3 folds for each of 16 candidates, totalling 48 fits\n",
      "Model: Spam Base\n",
      "Accuracy: 0.8668596237337193\n",
      "AUC: 0.8592587392952409\n",
      "Precision: 0.835820895522388\n",
      "Recall: 0.8235294117647058\n",
      "ROC: (array([0.        , 0.10501193, 1.        ]), array([0.        , 0.82352941, 1.        ]), array([2, 1, 0], dtype=int64))\n",
      "\n",
      "Fitting 3 folds for each of 16 candidates, totalling 48 fits\n",
      "Model: Wine Quality Standard\n",
      "Accuracy: 0.83125\n",
      "AUC: 0.8291534204639115\n",
      "Precision: 0.8305084745762712\n",
      "Recall: 0.8596491228070176\n",
      "ROC: (array([0.        , 0.20134228, 1.        ]), array([0.        , 0.85964912, 1.        ]), array([2, 1, 0]))\n",
      "\n",
      "Fitting 3 folds for each of 16 candidates, totalling 48 fits\n",
      "Model: Spam Base Standard\n",
      "Accuracy: 0.9218523878437048\n",
      "AUC: 0.9162133230380458\n",
      "Precision: 0.9097744360902256\n",
      "Recall: 0.8897058823529411\n",
      "ROC: (array([0.        , 0.05727924, 1.        ]), array([0.        , 0.88970588, 1.        ]), array([2, 1, 0], dtype=int64))\n",
      "\n"
     ]
    }
   ],
   "source": [
    "grid_params = {\n",
    "    'n_neighbors': [3, 5, 11, 19],\n",
    "    'weights': ['uniform', 'distance'],\n",
    "    'metric': ['euclidean', 'manhattan']\n",
    "}\n",
    "\n",
    "for dataset in data_provider.data():\n",
    "    features_train = dataset['train'][0]\n",
    "    labels_train = dataset['train'][1]\n",
    "\n",
    "    features_test = dataset['test'][0]\n",
    "    labels_test = dataset['test'][1]\n",
    "\n",
    "    gs = GridSearchCV(\n",
    "        KNeighborsClassifier(),\n",
    "        grid_params,\n",
    "        cv=3,\n",
    "        n_jobs= -1\n",
    "    )\n",
    "    gs_results = gs.fit(features_train, labels_train)\n",
    "    model = gs_results.best_estimator_\n",
    "    model.fit(features_train, labels_train)\n",
    "\n",
    "    predictions = model.predict(features_test)\n",
    "    print(\"Model: {}\".format(dataset['label']))\n",
    "    print(\"Accuracy: {}\".format(model.score(features_test, labels_test)))\n",
    "    fpr, tpr, tresholds = metrics.roc_curve(labels_test, predictions)\n",
    "    print(\"AUC: {}\".format(metrics.auc(fpr, tpr)))\n",
    "    print(\"Precision: {}\".format(metrics.precision_score(labels_test, predictions)))\n",
    "    print(\"Recall: {}\".format(metrics.recall_score(labels_test, predictions)))\n",
    "    print(\"ROC: {}\".format(metrics.roc_curve(labels_test, predictions)))\n",
    "    print()"
   ],
   "metadata": {
    "collapsed": false,
    "pycharm": {
     "name": "#%%\n"
    }
   }
  }
 ],
 "metadata": {
  "kernelspec": {
   "display_name": "Python 3",
   "language": "python",
   "name": "python3"
  },
  "language_info": {
   "codemirror_mode": {
    "name": "ipython",
    "version": 2
   },
   "file_extension": ".py",
   "mimetype": "text/x-python",
   "name": "python",
   "nbconvert_exporter": "python",
   "pygments_lexer": "ipython2",
   "version": "2.7.6"
  }
 },
 "nbformat": 4,
 "nbformat_minor": 0
}