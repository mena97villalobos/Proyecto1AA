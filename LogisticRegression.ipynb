{
 "cells": [
  {
   "cell_type": "code",
   "execution_count": 5,
   "metadata": {
    "collapsed": true,
    "pycharm": {
     "name": "#%%\n"
    }
   },
   "outputs": [],
   "source": [
    "from sklearn.linear_model import LogisticRegression\n",
    "from sklearn import metrics\n",
    "from sklearn.model_selection import GridSearchCV\n",
    "import data_provider"
   ]
  },
  {
   "cell_type": "markdown",
   "metadata": {
    "pycharm": {
     "name": "#%% md\n"
    }
   },
   "source": [
    "Create Model"
   ]
  },
  {
   "cell_type": "code",
   "execution_count": 6,
   "metadata": {
    "pycharm": {
     "name": "#%%\n"
    }
   },
   "outputs": [
    {
     "name": "stderr",
     "output_type": "stream",
     "text": [
      "c:\\program files\\python38\\lib\\site-packages\\sklearn\\model_selection\\_search.py:918: UserWarning: One or more of the test scores are non-finite: [0.74122146 0.74122146 0.74513016 0.63879818 0.63488399        nan\n",
      "        nan 0.73574782        nan 0.63410151 0.74122146 0.74122146\n",
      " 0.74513016 0.73731643 0.73809524        nan        nan 0.73574782\n",
      "        nan 0.73888138 0.74200027 0.74043716 0.74200027 0.64036313\n",
      " 0.63488399        nan        nan 0.73574782        nan 0.63410151\n",
      " 0.74200027 0.74200027 0.74200027 0.7373146  0.73418471        nan\n",
      "        nan 0.73574782        nan 0.73496901 0.73965835 0.74043716\n",
      " 0.74043533 0.63879818 0.63488399        nan        nan 0.73730727\n",
      "        nan 0.63488399 0.73965835 0.73965835 0.74043533 0.73653579\n",
      " 0.73809707        nan        nan 0.73808974        nan 0.73731643\n",
      " 0.73887038 0.73418288 0.73887038 0.64036313 0.63488399        nan\n",
      "        nan 0.73808974        nan 0.63410151 0.73887038 0.73965285\n",
      " 0.73887038 0.73497085 0.7373146         nan        nan 0.73808974\n",
      "        nan 0.73575149 0.73653029 0.73496168 0.73730727 0.63879818\n",
      " 0.63488399        nan        nan 0.73730544        nan 0.63488399\n",
      " 0.73653029 0.73731277 0.73730727 0.73653579 0.73887954        nan\n",
      "        nan 0.73730544        nan 0.73731643 0.73730727 0.73574416\n",
      " 0.73808974 0.64036313 0.63488399        nan        nan 0.73730544\n",
      "        nan 0.63410151 0.73730727 0.73730727 0.73808974 0.73575332\n",
      " 0.73653396        nan        nan 0.73887038        nan 0.73575149]\n",
      "  warnings.warn(\n",
      "c:\\program files\\python38\\lib\\site-packages\\sklearn\\model_selection\\_search.py:918: UserWarning: One or more of the test scores are non-finite: [0.92711095 0.923276   0.92736637 0.43196858 0.41943654        nan\n",
      "        nan 0.93017961        nan 0.41943654 0.92711095 0.92634349\n",
      " 0.92736637 0.84142854 0.8025549         nan        nan 0.93017961\n",
      "        nan 0.80229908 0.91867065 0.90716249 0.91867065 0.43068987\n",
      " 0.41918092        nan        nan 0.91304419        nan 0.41918092\n",
      " 0.91867065 0.91815901 0.91867065 0.81074114 0.76189209        nan\n",
      "        nan 0.91304419        nan 0.76163627 0.92966836 0.9255774\n",
      " 0.92915672 0.43196858 0.41943654        nan        nan 0.93094726\n",
      "        nan 0.41943654 0.92966836 0.92915672 0.92915672 0.84142854\n",
      " 0.8025549         nan        nan 0.93069164        nan 0.8025549\n",
      " 0.9168805  0.91330099 0.91841483 0.43068987 0.41918092        nan\n",
      "        nan 0.9130436         nan 0.41918092 0.9168805  0.91713613\n",
      " 0.91841483 0.81074114 0.76189209        nan        nan 0.91278778\n",
      "        nan 0.76163627 0.92992418 0.92071682 0.9301798  0.43196858\n",
      " 0.41943654        nan        nan 0.93018059        nan 0.41943654\n",
      " 0.92992418 0.9301798  0.9301798  0.84142854 0.8025549         nan\n",
      "        nan 0.93018059        nan 0.8025549  0.91457773 0.9099769\n",
      " 0.91611265 0.43068987 0.41918092        nan        nan 0.91048618\n",
      "        nan 0.41918092 0.91457773 0.91457773 0.91611265 0.81074114\n",
      " 0.76189209        nan        nan 0.91048618        nan 0.76189209]\n",
      "  warnings.warn(\n",
      "c:\\program files\\python38\\lib\\site-packages\\sklearn\\model_selection\\_search.py:918: UserWarning: One or more of the test scores are non-finite: [0.73729627 0.73729627 0.73651563 0.73729627 0.73729627        nan\n",
      "        nan 0.73807875        nan 0.73807691 0.73729627 0.73729627\n",
      " 0.73651563 0.73729627 0.73729627        nan        nan 0.73807875\n",
      "        nan 0.73807691 0.73104565 0.73104565 0.73104565 0.73104565\n",
      " 0.73104565        nan        nan 0.73339124        nan 0.73339124\n",
      " 0.73104565 0.73104565 0.73104565 0.73104565 0.73104565        nan\n",
      "        nan 0.73339124        nan 0.73339124 0.7365138  0.7365138\n",
      " 0.7365138  0.7365138  0.73729627        nan        nan 0.73729811\n",
      "        nan 0.73729811 0.7365138  0.7365138  0.7365138  0.7365138\n",
      " 0.7365138         nan        nan 0.73729811        nan 0.73729811\n",
      " 0.7326106  0.7326106  0.7326106  0.7326106  0.7326106         nan\n",
      "        nan 0.73182813        nan 0.73182813 0.7326106  0.7326106\n",
      " 0.7326106  0.7326106  0.7326106         nan        nan 0.73182813\n",
      "        nan 0.73182813 0.7365138  0.7365138  0.7365138  0.7365138\n",
      " 0.7365138         nan        nan 0.73729627        nan 0.73729627\n",
      " 0.7365138  0.7365138  0.7365138  0.7365138  0.7365138         nan\n",
      "        nan 0.73651563        nan 0.73729627 0.73339307 0.73339307\n",
      " 0.73339307 0.73339307 0.73339307        nan        nan 0.73182813\n",
      "        nan 0.73182813 0.73339307 0.73339307 0.73339307 0.73339307\n",
      " 0.73339307        nan        nan 0.73182813        nan 0.73182813]\n",
      "  warnings.warn(\n",
      "c:\\program files\\python38\\lib\\site-packages\\sklearn\\model_selection\\_search.py:918: UserWarning: One or more of the test scores are non-finite: [0.92404189 0.92404189 0.92429752 0.92250717 0.92225135        nan\n",
      "        nan 0.92608767        nan 0.92250658 0.92404189 0.92404189\n",
      " 0.92429752 0.92404189 0.92455314        nan        nan 0.92608767\n",
      "        nan 0.92557642 0.91994995 0.91994995 0.91994995 0.91867105\n",
      " 0.91867124        nan        nan 0.92225154        nan 0.91739234\n",
      " 0.91994995 0.91994995 0.91994995 0.91994995 0.91969433        nan\n",
      "        nan 0.92225154        nan 0.92071721 0.92429791 0.92429791\n",
      " 0.92480935 0.92276299 0.92199572        nan        nan 0.92557661\n",
      "        nan 0.92148409 0.92429791 0.92429791 0.92480935 0.92429791\n",
      " 0.92455373        nan        nan 0.92557661        nan 0.92506556\n",
      " 0.91994995 0.91994995 0.91994995 0.9181596  0.91867124        nan\n",
      "        nan 0.92174049        nan 0.91764796 0.91994995 0.91994995\n",
      " 0.91994995 0.91994995 0.91994995        nan        nan 0.92174049\n",
      "        nan 0.92046159 0.92455353 0.92455353 0.92404228 0.92250717\n",
      " 0.92199553        nan        nan 0.9253208         nan 0.9217399\n",
      " 0.92455353 0.92455353 0.92404228 0.92429791 0.92404209        nan\n",
      "        nan 0.92557642        nan 0.92455412 0.91969433 0.91969433\n",
      " 0.91969433 0.91867105 0.91841542        nan        nan 0.92174049\n",
      "        nan 0.9181596  0.91969433 0.91969433 0.91969433 0.91994995\n",
      " 0.91969433        nan        nan 0.92225194        nan 0.92020616]\n",
      "  warnings.warn(\n"
     ]
    },
    {
     "name": "stdout",
     "output_type": "stream",
     "text": [
      "Model: Wine Quality\n",
      "Accuracy: 0.765625\n",
      "AUC: 0.7638643588837867\n",
      "Precision: 0.7758620689655172\n",
      "Recall: 0.7894736842105263\n",
      "ROC: (array([0.        , 0.26174497, 1.        ]), array([0.        , 0.78947368, 1.        ]), array([2, 1, 0]))\n",
      "\n",
      "Model: Spam Base\n",
      "Accuracy: 0.9232995658465991\n",
      "AUC: 0.9161168047171135\n",
      "Precision: 0.9195402298850575\n",
      "Recall: 0.8823529411764706\n",
      "ROC: (array([0.        , 0.05011933, 1.        ]), array([0.        , 0.88235294, 1.        ]), array([2, 1, 0], dtype=int64))\n",
      "\n",
      "Model: Wine Quality Standard\n",
      "Accuracy: 0.753125\n",
      "AUC: 0.7538953648102359\n",
      "Precision: 0.7839506172839507\n",
      "Recall: 0.7426900584795322\n",
      "ROC: (array([0.        , 0.23489933, 1.        ]), array([0.        , 0.74269006, 1.        ]), array([2, 1, 0]))\n",
      "\n",
      "Model: Spam Base Standard\n",
      "Accuracy: 0.9290882778581766\n",
      "AUC: 0.9215349922785343\n",
      "Precision: 0.9305019305019305\n",
      "Recall: 0.8860294117647058\n",
      "ROC: (array([0.        , 0.04295943, 1.        ]), array([0.        , 0.88602941, 1.        ]), array([2, 1, 0], dtype=int64))\n",
      "\n"
     ]
    }
   ],
   "source": [
    "grid_params = {\n",
    "    'penalty': ['l2', 'l1'],\n",
    "    'C': [1.0, 2.0, 3.0],\n",
    "    'fit_intercept': [True, False],\n",
    "    'solver': ['newton-cg', 'lbfgs', 'liblinear', 'sag', 'saga'],\n",
    "    'max_iter': [100, 10000]\n",
    "}\n",
    "\n",
    "for dataset in data_provider.data():\n",
    "\n",
    "    features_train = dataset['train'][0]\n",
    "    labels_train = dataset['train'][1]\n",
    "\n",
    "    features_test = dataset['test'][0]\n",
    "    labels_test = dataset['test'][1]\n",
    "\n",
    "    gs = GridSearchCV(\n",
    "        LogisticRegression(),\n",
    "        grid_params,\n",
    "        cv=3,\n",
    "        n_jobs=-1\n",
    "    )\n",
    "    gs_results = gs.fit(features_train, labels_train)\n",
    "    model = gs_results.best_estimator_\n",
    "    model.fit(features_train, labels_train)\n",
    "\n",
    "    predictions = model.predict(features_test)\n",
    "    print(\"Model: {}\".format(dataset['label']))\n",
    "    print(\"Accuracy: {}\".format(model.score(features_test, labels_test)))\n",
    "    fpr, tpr, tresholds = metrics.roc_curve(labels_test, predictions)\n",
    "    print(\"AUC: {}\".format(metrics.auc(fpr, tpr)))\n",
    "    print(\"Precision: {}\".format(metrics.precision_score(labels_test, predictions)))\n",
    "    print(\"Recall: {}\".format(metrics.recall_score(labels_test, predictions)))\n",
    "    print(\"ROC: {}\".format(metrics.roc_curve(labels_test, predictions)))\n",
    "    print()"
   ]
  }
 ],
 "metadata": {
  "kernelspec": {
   "display_name": "Python 3",
   "language": "python",
   "name": "python3"
  },
  "language_info": {
   "codemirror_mode": {
    "name": "ipython",
    "version": 3
   },
   "file_extension": ".py",
   "mimetype": "text/x-python",
   "name": "python",
   "nbconvert_exporter": "python",
   "pygments_lexer": "ipython3",
   "version": "3.8.3"
  }
 },
 "nbformat": 4,
 "nbformat_minor": 1
}