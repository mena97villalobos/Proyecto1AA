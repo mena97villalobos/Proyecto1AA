{
 "cells": [
  {
   "cell_type": "code",
   "execution_count": 8,
   "metadata": {
    "collapsed": true,
    "pycharm": {
     "name": "#%%\n"
    }
   },
   "outputs": [],
   "source": [
    "from sklearn.linear_model import LogisticRegression\n",
    "from sklearn import metrics\n",
    "import pandas as pd\n",
    "import data_provider"
   ]
  },
  {
   "cell_type": "markdown",
   "source": [
    "Create Model"
   ],
   "metadata": {
    "collapsed": false,
    "pycharm": {
     "name": "#%% md\n"
    }
   }
  },
  {
   "cell_type": "code",
   "execution_count": 10,
   "outputs": [
    {
     "name": "stderr",
     "output_type": "stream",
     "text": [
      "/usr/local/lib/python3.9/site-packages/sklearn/linear_model/_logistic.py:763: ConvergenceWarning: lbfgs failed to converge (status=1):\n",
      "STOP: TOTAL NO. of ITERATIONS REACHED LIMIT.\n",
      "\n",
      "Increase the number of iterations (max_iter) or scale the data as shown in:\n",
      "    https://scikit-learn.org/stable/modules/preprocessing.html\n",
      "Please also refer to the documentation for alternative solver options:\n",
      "    https://scikit-learn.org/stable/modules/linear_model.html#logistic-regression\n",
      "  n_iter_i = _check_optimize_result(\n",
      "/usr/local/lib/python3.9/site-packages/sklearn/linear_model/_logistic.py:763: ConvergenceWarning: lbfgs failed to converge (status=1):\n",
      "STOP: TOTAL NO. of ITERATIONS REACHED LIMIT.\n",
      "\n",
      "Increase the number of iterations (max_iter) or scale the data as shown in:\n",
      "    https://scikit-learn.org/stable/modules/preprocessing.html\n",
      "Please also refer to the documentation for alternative solver options:\n",
      "    https://scikit-learn.org/stable/modules/linear_model.html#logistic-regression\n",
      "  n_iter_i = _check_optimize_result(\n"
     ]
    },
    {
     "name": "stdout",
     "output_type": "stream",
     "text": [
      "Model: Wine Quality\n",
      "Accuracy: 0.759375\n",
      "AUC: 0.7575846775776129\n",
      "Precision: 0.7701149425287356\n",
      "Recall: 0.783625730994152\n",
      "ROC: (array([0.        , 0.26845638, 1.        ]), array([0.        , 0.78362573, 1.        ]), array([2, 1, 0]))\n",
      "\n",
      "Model: Spam Base\n",
      "Accuracy: 0.914616497829233\n",
      "AUC: 0.9050873929524077\n",
      "Precision: 0.9176470588235294\n",
      "Recall: 0.8602941176470589\n",
      "ROC: (array([0.        , 0.05011933, 1.        ]), array([0.        , 0.86029412, 1.        ]), array([2, 1, 0]))\n",
      "\n",
      "Model: Wine Quality Standard\n",
      "Accuracy: 0.75\n",
      "AUC: 0.7505396601122494\n",
      "Precision: 0.7791411042944786\n",
      "Recall: 0.7426900584795322\n",
      "ROC: (array([0.        , 0.24161074, 1.        ]), array([0.        , 0.74269006, 1.        ]), array([2, 1, 0]))\n",
      "\n",
      "Model: Spam Base Standard\n",
      "Accuracy: 0.9276410998552822\n",
      "AUC: 0.9196967569844167\n",
      "Precision: 0.9302325581395349\n",
      "Recall: 0.8823529411764706\n",
      "ROC: (array([0.        , 0.04295943, 1.        ]), array([0.        , 0.88235294, 1.        ]), array([2, 1, 0]))\n",
      "\n"
     ]
    }
   ],
   "source": [
    "for dataset in data_provider.data():\n",
    "    model = LogisticRegression()\n",
    "\n",
    "    features_train = dataset['train'][0]\n",
    "    labels_train = dataset['train'][1]\n",
    "\n",
    "    features_test = dataset['test'][0]\n",
    "    labels_test = dataset['test'][1]\n",
    "\n",
    "    model.fit(features_train, labels_train)\n",
    "\n",
    "    predictions = model.predict(features_test)\n",
    "    print(\"Model: {}\".format(dataset['label']))\n",
    "    print(\"Accuracy: {}\".format(model.score(features_test, labels_test)))\n",
    "    fpr, tpr, tresholds = metrics.roc_curve(labels_test, predictions)\n",
    "    print(\"AUC: {}\".format(metrics.auc(fpr, tpr)))\n",
    "    print(\"Precision: {}\".format(metrics.precision_score(labels_test, predictions)))\n",
    "    print(\"Recall: {}\".format(metrics.recall_score(labels_test, predictions)))\n",
    "    print(\"ROC: {}\".format(metrics.roc_curve(labels_test, predictions)))\n",
    "    print()"
   ],
   "metadata": {
    "collapsed": false,
    "pycharm": {
     "name": "#%%\n"
    }
   }
  }
 ],
 "metadata": {
  "kernelspec": {
   "display_name": "Python 3",
   "language": "python",
   "name": "python3"
  },
  "language_info": {
   "codemirror_mode": {
    "name": "ipython",
    "version": 2
   },
   "file_extension": ".py",
   "mimetype": "text/x-python",
   "name": "python",
   "nbconvert_exporter": "python",
   "pygments_lexer": "ipython2",
   "version": "2.7.6"
  }
 },
 "nbformat": 4,
 "nbformat_minor": 0
}