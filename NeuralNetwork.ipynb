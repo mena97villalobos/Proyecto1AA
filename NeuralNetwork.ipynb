{
  "nbformat": 4,
  "nbformat_minor": 0,
  "metadata": {
    "kernelspec": {
      "display_name": "Python 3",
      "language": "python",
      "name": "python3"
    },
    "language_info": {
      "codemirror_mode": {
        "name": "ipython",
        "version": 2
      },
      "file_extension": ".py",
      "mimetype": "text/x-python",
      "name": "python",
      "nbconvert_exporter": "python",
      "pygments_lexer": "ipython2",
      "version": "2.7.6"
    },
    "colab": {
      "name": "NeuralNetwork.ipynb",
      "provenance": [],
      "collapsed_sections": []
    }
  },
  "cells": [
    {
      "cell_type": "code",
      "metadata": {
        "id": "sZ4YboTqC8rd"
      },
      "source": [
        "import warnings\n",
        "from sklearn.exceptions import DataConversionWarning\n",
        "warnings.filterwarnings(action='ignore', category=DataConversionWarning)"
      ],
      "execution_count": 10,
      "outputs": []
    },
    {
      "cell_type": "code",
      "metadata": {
        "collapsed": true,
        "pycharm": {
          "name": "#%%\n"
        },
        "id": "GIU7qLyRlR8j"
      },
      "source": [
        "import data_provider\n",
        "from sklearn import metrics\n",
        "from sklearn.metrics import confusion_matrix\n",
        "from sklearn.model_selection import GridSearchCV\n",
        "from sklearn.neural_network import MLPClassifier"
      ],
      "execution_count": 11,
      "outputs": []
    },
    {
      "cell_type": "code",
      "metadata": {
        "id": "j7ATsgw1ccLY",
        "colab": {
          "base_uri": "https://localhost:8080/"
        },
        "outputId": "9a144261-8f2c-496e-cc67-bc36e4742b88"
      },
      "source": [
        "grid_params = {\n",
        "    'alpha': [0.0001, 0.001, 0.01],\n",
        "    'epsilon': [1e-8, 1e-10, 1e-6],\n",
        "    'learning_rate': ['constant', 'adaptive', 'invscaling'],\n",
        "    'learning_rate_init': [0.005, 0.01, 0.05],\n",
        "    'hidden_layer_sizes': [(20),(15),(10)],\n",
        "    'max_iter': [100, 500],\n",
        "    'random_state': [1],\n",
        "    'activation': ['relu', 'identity', 'tanh'],\n",
        "    'solver': ['adam'],   \n",
        "}\n",
        "\n",
        "for dataset in data_provider.data():\n",
        "    features_train = dataset['train'][0].values\n",
        "    labels_train = dataset['train'][1]\n",
        "\n",
        "    features_test = dataset['test'][0].values\n",
        "    labels_test = dataset['test'][1]\n",
        "\n",
        "    gs = GridSearchCV(\n",
        "        MLPClassifier(),\n",
        "        grid_params,\n",
        "        cv=3,\n",
        "        n_jobs=-1,\n",
        "    )\n",
        "\n",
        "    gs_results = gs.fit(features_train, labels_train)\n",
        "    model = gs_results.best_estimator_\n",
        "    print(\"Model Best Params:\\n{}\".format(model.get_params()))\n",
        "    model.fit(features_train, labels_train)\n",
        "\n",
        "    predictions = model.predict(features_test)\n",
        "\n",
        "    print(\"Model: {}\".format(dataset['label']))\n",
        "    print(\"Confusion Matrix:\\n{}\".format(confusion_matrix(predictions, labels_test)))\n",
        "    print(\"Accuracy: {}\".format(model.score(features_test, labels_test)))\n",
        "    fpr, tpr, tresholds = metrics.roc_curve(labels_test, predictions)\n",
        "    print(\"AUC: {}\".format(metrics.auc(fpr, tpr)))\n",
        "    print(\"Precision: {}\".format(metrics.precision_score(labels_test, predictions)))\n",
        "    print(\"Recall: {}\".format(metrics.recall_score(labels_test, predictions)))\n",
        "    print(\"ROC: {}\".format(metrics.roc_curve(labels_test, predictions)))\n",
        "    print()"
      ],
      "execution_count": 12,
      "outputs": [
        {
          "output_type": "stream",
          "text": [
            "/usr/local/lib/python3.7/dist-packages/sklearn/neural_network/_multilayer_perceptron.py:571: ConvergenceWarning: Stochastic Optimizer: Maximum iterations (100) reached and the optimization hasn't converged yet.\n",
            "  % self.max_iter, ConvergenceWarning)\n"
          ],
          "name": "stderr"
        },
        {
          "output_type": "stream",
          "text": [
            "Model Best Params:\n",
            "{'activation': 'tanh', 'alpha': 0.001, 'batch_size': 'auto', 'beta_1': 0.9, 'beta_2': 0.999, 'early_stopping': False, 'epsilon': 1e-06, 'hidden_layer_sizes': 10, 'learning_rate': 'constant', 'learning_rate_init': 0.01, 'max_fun': 15000, 'max_iter': 100, 'momentum': 0.9, 'n_iter_no_change': 10, 'nesterovs_momentum': True, 'power_t': 0.5, 'random_state': 1, 'shuffle': True, 'solver': 'adam', 'tol': 0.0001, 'validation_fraction': 0.1, 'verbose': False, 'warm_start': False}\n"
          ],
          "name": "stdout"
        },
        {
          "output_type": "stream",
          "text": [
            "/usr/local/lib/python3.7/dist-packages/sklearn/neural_network/_multilayer_perceptron.py:571: ConvergenceWarning: Stochastic Optimizer: Maximum iterations (100) reached and the optimization hasn't converged yet.\n",
            "  % self.max_iter, ConvergenceWarning)\n"
          ],
          "name": "stderr"
        },
        {
          "output_type": "stream",
          "text": [
            "Model: Wine Quality\n",
            "Confusion Matrix:\n",
            "[[ 95  32]\n",
            " [ 54 139]]\n",
            "Accuracy: 0.73125\n",
            "AUC: 0.7252246948467366\n",
            "Precision: 0.7202072538860104\n",
            "Recall: 0.8128654970760234\n",
            "ROC: (array([0.        , 0.36241611, 1.        ]), array([0.       , 0.8128655, 1.       ]), array([2, 1, 0]))\n",
            "\n",
            "Model Best Params:\n",
            "{'activation': 'relu', 'alpha': 0.0001, 'batch_size': 'auto', 'beta_1': 0.9, 'beta_2': 0.999, 'early_stopping': False, 'epsilon': 1e-08, 'hidden_layer_sizes': 20, 'learning_rate': 'constant', 'learning_rate_init': 0.005, 'max_fun': 15000, 'max_iter': 100, 'momentum': 0.9, 'n_iter_no_change': 10, 'nesterovs_momentum': True, 'power_t': 0.5, 'random_state': 1, 'shuffle': True, 'solver': 'adam', 'tol': 0.0001, 'validation_fraction': 0.1, 'verbose': False, 'warm_start': False}\n",
            "Model: Spam Base\n",
            "Confusion Matrix:\n",
            "[[393  26]\n",
            " [ 26 246]]\n",
            "Accuracy: 0.9247467438494935\n",
            "AUC: 0.9211796293696476\n",
            "Precision: 0.9044117647058824\n",
            "Recall: 0.9044117647058824\n",
            "ROC: (array([0.        , 0.06205251, 1.        ]), array([0.        , 0.90441176, 1.        ]), array([2, 1, 0]))\n",
            "\n",
            "Model Best Params:\n",
            "{'activation': 'relu', 'alpha': 0.0001, 'batch_size': 'auto', 'beta_1': 0.9, 'beta_2': 0.999, 'early_stopping': False, 'epsilon': 1e-06, 'hidden_layer_sizes': 20, 'learning_rate': 'constant', 'learning_rate_init': 0.01, 'max_fun': 15000, 'max_iter': 500, 'momentum': 0.9, 'n_iter_no_change': 10, 'nesterovs_momentum': True, 'power_t': 0.5, 'random_state': 1, 'shuffle': True, 'solver': 'adam', 'tol': 0.0001, 'validation_fraction': 0.1, 'verbose': False, 'warm_start': False}\n",
            "Model: Wine Quality Standard\n",
            "Confusion Matrix:\n",
            "[[113  34]\n",
            " [ 36 137]]\n",
            "Accuracy: 0.78125\n",
            "AUC: 0.7797794261941208\n",
            "Precision: 0.791907514450867\n",
            "Recall: 0.8011695906432749\n",
            "ROC: (array([0.        , 0.24161074, 1.        ]), array([0.        , 0.80116959, 1.        ]), array([2, 1, 0]))\n",
            "\n"
          ],
          "name": "stdout"
        },
        {
          "output_type": "stream",
          "text": [
            "/usr/local/lib/python3.7/dist-packages/sklearn/neural_network/_multilayer_perceptron.py:571: ConvergenceWarning: Stochastic Optimizer: Maximum iterations (100) reached and the optimization hasn't converged yet.\n",
            "  % self.max_iter, ConvergenceWarning)\n"
          ],
          "name": "stderr"
        },
        {
          "output_type": "stream",
          "text": [
            "Model Best Params:\n",
            "{'activation': 'tanh', 'alpha': 0.0001, 'batch_size': 'auto', 'beta_1': 0.9, 'beta_2': 0.999, 'early_stopping': False, 'epsilon': 1e-06, 'hidden_layer_sizes': 10, 'learning_rate': 'constant', 'learning_rate_init': 0.005, 'max_fun': 15000, 'max_iter': 100, 'momentum': 0.9, 'n_iter_no_change': 10, 'nesterovs_momentum': True, 'power_t': 0.5, 'random_state': 1, 'shuffle': True, 'solver': 'adam', 'tol': 0.0001, 'validation_fraction': 0.1, 'verbose': False, 'warm_start': False}\n"
          ],
          "name": "stdout"
        },
        {
          "output_type": "stream",
          "text": [
            "/usr/local/lib/python3.7/dist-packages/sklearn/neural_network/_multilayer_perceptron.py:571: ConvergenceWarning: Stochastic Optimizer: Maximum iterations (100) reached and the optimization hasn't converged yet.\n",
            "  % self.max_iter, ConvergenceWarning)\n"
          ],
          "name": "stderr"
        },
        {
          "output_type": "stream",
          "text": [
            "Model: Spam Base Standard\n",
            "Confusion Matrix:\n",
            "[[395  21]\n",
            " [ 24 251]]\n",
            "Accuracy: 0.934876989869754\n",
            "AUC: 0.9327574406851046\n",
            "Precision: 0.9127272727272727\n",
            "Recall: 0.9227941176470589\n",
            "ROC: (array([0.        , 0.05727924, 1.        ]), array([0.        , 0.92279412, 1.        ]), array([2, 1, 0]))\n",
            "\n"
          ],
          "name": "stdout"
        },
        {
          "output_type": "stream",
          "text": [
            "/usr/local/lib/python3.7/dist-packages/sklearn/neural_network/_multilayer_perceptron.py:571: ConvergenceWarning: Stochastic Optimizer: Maximum iterations (100) reached and the optimization hasn't converged yet.\n",
            "  % self.max_iter, ConvergenceWarning)\n"
          ],
          "name": "stderr"
        },
        {
          "output_type": "stream",
          "text": [
            "Model Best Params:\n",
            "{'activation': 'tanh', 'alpha': 0.01, 'batch_size': 'auto', 'beta_1': 0.9, 'beta_2': 0.999, 'early_stopping': False, 'epsilon': 1e-08, 'hidden_layer_sizes': 15, 'learning_rate': 'constant', 'learning_rate_init': 0.01, 'max_fun': 15000, 'max_iter': 100, 'momentum': 0.9, 'n_iter_no_change': 10, 'nesterovs_momentum': True, 'power_t': 0.5, 'random_state': 1, 'shuffle': True, 'solver': 'adam', 'tol': 0.0001, 'validation_fraction': 0.1, 'verbose': False, 'warm_start': False}\n"
          ],
          "name": "stdout"
        },
        {
          "output_type": "stream",
          "text": [
            "/usr/local/lib/python3.7/dist-packages/sklearn/neural_network/_multilayer_perceptron.py:571: ConvergenceWarning: Stochastic Optimizer: Maximum iterations (100) reached and the optimization hasn't converged yet.\n",
            "  % self.max_iter, ConvergenceWarning)\n"
          ],
          "name": "stderr"
        },
        {
          "output_type": "stream",
          "text": [
            "Model: Wine Quality Normal\n",
            "Confusion Matrix:\n",
            "[[107  33]\n",
            " [ 42 138]]\n",
            "Accuracy: 0.765625\n",
            "AUC: 0.7625691746143882\n",
            "Precision: 0.7666666666666667\n",
            "Recall: 0.8070175438596491\n",
            "ROC: (array([0.        , 0.28187919, 1.        ]), array([0.        , 0.80701754, 1.        ]), array([2, 1, 0]))\n",
            "\n"
          ],
          "name": "stdout"
        },
        {
          "output_type": "stream",
          "text": [
            "/usr/local/lib/python3.7/dist-packages/sklearn/neural_network/_multilayer_perceptron.py:571: ConvergenceWarning: Stochastic Optimizer: Maximum iterations (100) reached and the optimization hasn't converged yet.\n",
            "  % self.max_iter, ConvergenceWarning)\n"
          ],
          "name": "stderr"
        },
        {
          "output_type": "stream",
          "text": [
            "Model Best Params:\n",
            "{'activation': 'tanh', 'alpha': 0.0001, 'batch_size': 'auto', 'beta_1': 0.9, 'beta_2': 0.999, 'early_stopping': False, 'epsilon': 1e-08, 'hidden_layer_sizes': 15, 'learning_rate': 'constant', 'learning_rate_init': 0.01, 'max_fun': 15000, 'max_iter': 100, 'momentum': 0.9, 'n_iter_no_change': 10, 'nesterovs_momentum': True, 'power_t': 0.5, 'random_state': 1, 'shuffle': True, 'solver': 'adam', 'tol': 0.0001, 'validation_fraction': 0.1, 'verbose': False, 'warm_start': False}\n",
            "Model: Spam Base Normal\n",
            "Confusion Matrix:\n",
            "[[404  26]\n",
            " [ 15 246]]\n",
            "Accuracy: 0.9406657018813314\n",
            "AUC: 0.9343061210164257\n",
            "Precision: 0.9425287356321839\n",
            "Recall: 0.9044117647058824\n",
            "ROC: (array([0.        , 0.03579952, 1.        ]), array([0.        , 0.90441176, 1.        ]), array([2, 1, 0]))\n",
            "\n"
          ],
          "name": "stdout"
        },
        {
          "output_type": "stream",
          "text": [
            "/usr/local/lib/python3.7/dist-packages/sklearn/neural_network/_multilayer_perceptron.py:571: ConvergenceWarning: Stochastic Optimizer: Maximum iterations (100) reached and the optimization hasn't converged yet.\n",
            "  % self.max_iter, ConvergenceWarning)\n"
          ],
          "name": "stderr"
        }
      ]
    }
  ]
}