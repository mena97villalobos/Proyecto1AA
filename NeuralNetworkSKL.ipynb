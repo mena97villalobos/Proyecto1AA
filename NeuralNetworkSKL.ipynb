{
  "nbformat": 4,
  "nbformat_minor": 0,
  "metadata": {
    "kernelspec": {
      "display_name": "Python 3",
      "language": "python",
      "name": "python3"
    },
    "language_info": {
      "codemirror_mode": {
        "name": "ipython",
        "version": 2
      },
      "file_extension": ".py",
      "mimetype": "text/x-python",
      "name": "python",
      "nbconvert_exporter": "python",
      "pygments_lexer": "ipython2",
      "version": "2.7.6"
    },
    "colab": {
      "name": "NeuralNetwork.ipynb",
      "provenance": [],
      "collapsed_sections": []
    },
    "accelerator": "GPU"
  },
  "cells": [
    {
      "cell_type": "code",
      "metadata": {
        "id": "sZ4YboTqC8rd"
      },
      "source": [
        "import warnings\n",
        "from sklearn.exceptions import DataConversionWarning\n",
        "warnings.filterwarnings(action='ignore', category=DataConversionWarning)"
      ],
      "execution_count": 28,
      "outputs": []
    },
    {
      "cell_type": "code",
      "metadata": {
        "collapsed": true,
        "pycharm": {
          "name": "#%%\n"
        },
        "id": "GIU7qLyRlR8j"
      },
      "source": [
        "import data_provider\n",
        "from sklearn import metrics\n",
        "from sklearn.metrics import confusion_matrix\n",
        "from sklearn.model_selection import GridSearchCV\n",
        "from sklearn.neural_network import MLPClassifier"
      ],
      "execution_count": 29,
      "outputs": []
    },
    {
      "cell_type": "code",
      "metadata": {
        "colab": {
          "base_uri": "https://localhost:8080/",
          "height": 229
        },
        "id": "j7ATsgw1ccLY",
        "outputId": "9e6185c6-38d6-4d12-e4a9-9526fef636eb"
      },
      "source": [
        "grid_params = {\n",
        "    'alpha': [0.0001, 0.001, 0.01],\n",
        "    'epsilon': [1e-8, 1e-10, 1e-6],\n",
        "    'learning_rate': ['constant', 'adaptive', 'invscaling'],\n",
        "    'learning_rate_init': [0.001, 0.005, 0.01, 0.05],\n",
        "    'hidden_layer_sizes': [(20),(20,5),(100,20,5)],\n",
        "    'max_iter': [500, 1000, 1500, 2000],\n",
        "    'random_state': [1],\n",
        "    'activation': ['relu', 'identity', 'tanh'],\n",
        "    'solver': ['adam'],   \n",
        "}\n",
        "\n",
        "for dataset in data_provider.data():\n",
        "    features_train = dataset['train'][0].values\n",
        "    labels_train = dataset['train'][1]\n",
        "\n",
        "    features_test = dataset['test'][0].values\n",
        "    labels_test = dataset['test'][1]\n",
        "\n",
        "    net = MLPClassifier()\n",
        "\n",
        "    gs = GridSearchCV(\n",
        "        net,\n",
        "        grid_params,\n",
        "        cv=3,\n",
        "        n_jobs=-1,\n",
        "    )\n",
        "\n",
        "    gs_results = gs.fit(features_train, labels_train)\n",
        "    model = gs_results.best_estimator_\n",
        "    print(\"Model Best Params:\\n{}\".format(model.get_params()))\n",
        "    model.fit(features_train, labels_train)\n",
        "\n",
        "    predictions = model.predict(features_test)\n",
        "\n",
        "    print(\"Model: {}\".format(dataset['label']))\n",
        "    print(\"Confusion Matrix:\\n{}\".format(confusion_matrix(predictions, labels_test)))\n",
        "    print(\"Accuracy: {}\".format(model.score(features_test, labels_test)))\n",
        "    fpr, tpr, tresholds = metrics.roc_curve(labels_test, predictions)\n",
        "    print(\"AUC: {}\".format(metrics.auc(fpr, tpr)))\n",
        "    print(\"Precision: {}\".format(metrics.precision_score(labels_test, predictions)))\n",
        "    print(\"Recall: {}\".format(metrics.recall_score(labels_test, predictions)))\n",
        "    print(\"ROC: {}\".format(metrics.roc_curve(labels_test, predictions)))\n",
        "    print()"
      ],
      "execution_count": 1,
      "outputs": [
        {
          "output_type": "error",
          "ename": "NameError",
          "evalue": "ignored",
          "traceback": [
            "\u001b[0;31m---------------------------------------------------------------------------\u001b[0m",
            "\u001b[0;31mNameError\u001b[0m                                 Traceback (most recent call last)",
            "\u001b[0;32m<ipython-input-1-6a4b74abd403>\u001b[0m in \u001b[0;36m<module>\u001b[0;34m()\u001b[0m\n\u001b[1;32m     11\u001b[0m }\n\u001b[1;32m     12\u001b[0m \u001b[0;34m\u001b[0m\u001b[0m\n\u001b[0;32m---> 13\u001b[0;31m \u001b[0;32mfor\u001b[0m \u001b[0mdataset\u001b[0m \u001b[0;32min\u001b[0m \u001b[0mdata_provider\u001b[0m\u001b[0;34m.\u001b[0m\u001b[0mdata\u001b[0m\u001b[0;34m(\u001b[0m\u001b[0;34m)\u001b[0m\u001b[0;34m:\u001b[0m\u001b[0;34m\u001b[0m\u001b[0;34m\u001b[0m\u001b[0m\n\u001b[0m\u001b[1;32m     14\u001b[0m     \u001b[0mfeatures_train\u001b[0m \u001b[0;34m=\u001b[0m \u001b[0mdataset\u001b[0m\u001b[0;34m[\u001b[0m\u001b[0;34m'train'\u001b[0m\u001b[0;34m]\u001b[0m\u001b[0;34m[\u001b[0m\u001b[0;36m0\u001b[0m\u001b[0;34m]\u001b[0m\u001b[0;34m.\u001b[0m\u001b[0mvalues\u001b[0m\u001b[0;34m\u001b[0m\u001b[0;34m\u001b[0m\u001b[0m\n\u001b[1;32m     15\u001b[0m     \u001b[0mlabels_train\u001b[0m \u001b[0;34m=\u001b[0m \u001b[0mdataset\u001b[0m\u001b[0;34m[\u001b[0m\u001b[0;34m'train'\u001b[0m\u001b[0;34m]\u001b[0m\u001b[0;34m[\u001b[0m\u001b[0;36m1\u001b[0m\u001b[0;34m]\u001b[0m\u001b[0;34m\u001b[0m\u001b[0;34m\u001b[0m\u001b[0m\n",
            "\u001b[0;31mNameError\u001b[0m: name 'data_provider' is not defined"
          ]
        }
      ]
    }
  ]
}