{
 "cells": [
  {
   "cell_type": "code",
   "execution_count": 7,
   "metadata": {
    "collapsed": true,
    "pycharm": {
     "name": "#%%\n"
    }
   },
   "outputs": [],
   "source": [
    "import data_provider\n",
    "from sklearn import tree\n",
    "from sklearn.tree import DecisionTreeClassifier\n",
    "from sklearn.tree import export_graphviz\n",
    "from sklearn import metrics"
   ]
  },
  {
   "cell_type": "markdown",
   "source": [
    "Create Model"
   ],
   "metadata": {
    "collapsed": false,
    "pycharm": {
     "name": "#%% md\n"
    }
   }
  },
  {
   "cell_type": "code",
   "execution_count": 8,
   "outputs": [
    {
     "name": "stdout",
     "output_type": "stream",
     "text": [
      "Model: Wine Quality\n",
      "Accuracy: 0.696875\n",
      "AUC: 0.707739707209859\n",
      "Precision: 0.8245614035087719\n",
      "Recall: 0.5497076023391813\n",
      "ROC: (array([0.        , 0.13422819, 1.        ]), array([0.       , 0.5497076, 1.       ]), array([2, 1, 0]))\n",
      "\n",
      "Model: Spam Base\n",
      "Accuracy: 0.8248914616497829\n",
      "AUC: 0.7982109013056297\n",
      "Precision: 0.8511627906976744\n",
      "Recall: 0.6727941176470589\n",
      "ROC: (array([0.        , 0.07637232, 1.        ]), array([0.        , 0.67279412, 1.        ]), array([2, 1, 0]))\n",
      "\n",
      "Model: Wine Quality Standard\n",
      "Accuracy: 0.66875\n",
      "AUC: 0.6701989874013894\n",
      "Precision: 0.7070063694267515\n",
      "Recall: 0.6491228070175439\n",
      "ROC: (array([0.        , 0.30872483, 1.        ]), array([0.        , 0.64912281, 1.        ]), array([2, 1, 0]))\n",
      "\n",
      "Model: Spam Base Standard\n",
      "Accuracy: 0.849493487698987\n",
      "AUC: 0.8204320511020637\n",
      "Precision: 0.9117647058823529\n",
      "Recall: 0.6838235294117647\n",
      "ROC: (array([0.        , 0.04295943, 1.        ]), array([0.        , 0.68382353, 1.        ]), array([2, 1, 0]))\n",
      "\n"
     ]
    }
   ],
   "source": [
    "for dataset in data_provider.data():\n",
    "    model: DecisionTreeClassifier = DecisionTreeClassifier(max_depth = 2)\n",
    "    features_train = dataset['train'][0]\n",
    "    labels_train = dataset['train'][1]\n",
    "\n",
    "    features_test = dataset['test'][0]\n",
    "    labels_test = dataset['test'][1]\n",
    "\n",
    "    model.fit(features_train, labels_train)\n",
    "\n",
    "    predictions = model.predict(features_test)\n",
    "    print(\"Model: {}\".format(dataset['label']))\n",
    "    print(\"Accuracy: {}\".format(model.score(features_test, labels_test)))\n",
    "    fpr, tpr, tresholds = metrics.roc_curve(labels_test, predictions)\n",
    "    print(\"AUC: {}\".format(metrics.auc(fpr, tpr)))\n",
    "    print(\"Precision: {}\".format(metrics.precision_score(labels_test, predictions)))\n",
    "    print(\"Recall: {}\".format(metrics.recall_score(labels_test, predictions)))\n",
    "    print(\"ROC: {}\".format(metrics.roc_curve(labels_test, predictions)))\n",
    "\n",
    "    export_graphviz(\n",
    "        model,\n",
    "        out_file =  \"decision_trees/Final Tree - {}.dot\".format(dataset['label']),\n",
    "        feature_names = list(features_train.columns.values),\n",
    "        filled = True,\n",
    "        rounded = True\n",
    "    )\n"
   ],
   "metadata": {
    "collapsed": false,
    "pycharm": {
     "name": "#%%\n"
    }
   }
  }
 ],
 "metadata": {
  "kernelspec": {
   "display_name": "Python 3",
   "language": "python",
   "name": "python3"
  },
  "language_info": {
   "codemirror_mode": {
    "name": "ipython",
    "version": 2
   },
   "file_extension": ".py",
   "mimetype": "text/x-python",
   "name": "python",
   "nbconvert_exporter": "python",
   "pygments_lexer": "ipython2",
   "version": "2.7.6"
  }
 },
 "nbformat": 4,
 "nbformat_minor": 0
}