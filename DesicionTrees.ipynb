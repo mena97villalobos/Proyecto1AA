{
 "cells": [
  {
   "cell_type": "code",
   "execution_count": 3,
   "metadata": {
    "collapsed": true,
    "pycharm": {
     "name": "#%%\n"
    }
   },
   "outputs": [],
   "source": [
    "import data_provider\n",
    "from sklearn.model_selection import GridSearchCV\n",
    "from sklearn.tree import DecisionTreeClassifier\n",
    "from sklearn.tree import export_graphviz\n",
    "from sklearn import metrics"
   ]
  },
  {
   "cell_type": "markdown",
   "source": [
    "Create Model"
   ],
   "metadata": {
    "collapsed": false,
    "pycharm": {
     "name": "#%% md\n"
    }
   }
  },
  {
   "cell_type": "code",
   "execution_count": 4,
   "outputs": [
    {
     "name": "stdout",
     "output_type": "stream",
     "text": [
      "Model: Wine Quality\n",
      "Accuracy: 0.7625\n",
      "AUC: 0.7605086541858\n",
      "Precision: 0.7714285714285715\n",
      "Recall: 0.7894736842105263\n",
      "ROC: (array([0.        , 0.26845638, 1.        ]), array([0.        , 0.78947368, 1.        ]), array([2, 1, 0]))\n",
      "Model: Spam Base\n",
      "Accuracy: 0.9261939218523878\n",
      "AUC: 0.9223729467920819\n",
      "Precision: 0.9077490774907749\n",
      "Recall: 0.9044117647058824\n",
      "ROC: (array([0.        , 0.05966587, 1.        ]), array([0.        , 0.90441176, 1.        ]), array([2, 1, 0], dtype=int64))\n",
      "Model: Wine Quality Standard\n",
      "Accuracy: 0.7375\n",
      "AUC: 0.7349582008713058\n",
      "Precision: 0.7457627118644068\n",
      "Recall: 0.7719298245614035\n",
      "ROC: (array([0.        , 0.30201342, 1.        ]), array([0.        , 0.77192982, 1.        ]), array([2, 1, 0]))\n",
      "Model: Spam Base Standard\n",
      "Accuracy: 0.914616497829233\n",
      "AUC: 0.9134713252842903\n",
      "Precision: 0.8790035587188612\n",
      "Recall: 0.9080882352941176\n",
      "ROC: (array([0.        , 0.08114558, 1.        ]), array([0.        , 0.90808824, 1.        ]), array([2, 1, 0], dtype=int64))\n"
     ]
    }
   ],
   "source": [
    "grid_params = {\n",
    "    'criterion': ['gini', 'entropy'],\n",
    "    'splitter' : [\"best\", \"random\"],\n",
    "}\n",
    "\n",
    "for dataset in data_provider.data():\n",
    "    features_train = dataset['train'][0]\n",
    "    labels_train = dataset['train'][1]\n",
    "\n",
    "    features_test = dataset['test'][0]\n",
    "    labels_test = dataset['test'][1]\n",
    "\n",
    "    gs = GridSearchCV(\n",
    "        DecisionTreeClassifier(),\n",
    "        grid_params,\n",
    "        cv=3,\n",
    "        n_jobs=-1\n",
    "    )\n",
    "    gs_results = gs.fit(features_train, labels_train)\n",
    "    model = gs_results.best_estimator_\n",
    "\n",
    "    model.fit(features_train, labels_train)\n",
    "\n",
    "    predictions = model.predict(features_test)\n",
    "    print(\"Model: {}\".format(dataset['label']))\n",
    "    print(\"Accuracy: {}\".format(model.score(features_test, labels_test)))\n",
    "    fpr, tpr, tresholds = metrics.roc_curve(labels_test, predictions)\n",
    "    print(\"AUC: {}\".format(metrics.auc(fpr, tpr)))\n",
    "    print(\"Precision: {}\".format(metrics.precision_score(labels_test, predictions)))\n",
    "    print(\"Recall: {}\".format(metrics.recall_score(labels_test, predictions)))\n",
    "    print(\"ROC: {}\".format(metrics.roc_curve(labels_test, predictions)))\n",
    "    print()\n",
    "\n",
    "    export_graphviz(\n",
    "        model,\n",
    "        out_file =  \"decision_trees/Final Tree - {}.dot\".format(dataset['label']),\n",
    "        feature_names = list(features_train.columns.values),\n",
    "        filled = True,\n",
    "        rounded = True\n",
    "    )\n"
   ],
   "metadata": {
    "collapsed": false,
    "pycharm": {
     "name": "#%%\n"
    }
   }
  }
 ],
 "metadata": {
  "kernelspec": {
   "display_name": "Python 3",
   "language": "python",
   "name": "python3"
  },
  "language_info": {
   "codemirror_mode": {
    "name": "ipython",
    "version": 2
   },
   "file_extension": ".py",
   "mimetype": "text/x-python",
   "name": "python",
   "nbconvert_exporter": "python",
   "pygments_lexer": "ipython2",
   "version": "2.7.6"
  }
 },
 "nbformat": 4,
 "nbformat_minor": 0
}